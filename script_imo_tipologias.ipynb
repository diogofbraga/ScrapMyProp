{
 "cells": [
  {
   "cell_type": "markdown",
   "metadata": {},
   "source": [
    "# Scrap My Prop\n",
    "\n",
    "### Laboratórios de Engenharia Informática\n",
    "\n",
    "#### \"Development of an IT solution for the extraction and automatic analysis of data and relevant information for the calculation of land and properties.\""
   ]
  },
  {
   "cell_type": "code",
   "execution_count": null,
   "metadata": {},
   "outputs": [],
   "source": [
    "import pandas as pd\n",
    "import numpy as np\n",
    "import re"
   ]
  },
  {
   "cell_type": "markdown",
   "metadata": {},
   "source": [
    "# 'Imovirtual'"
   ]
  },
  {
   "cell_type": "markdown",
   "metadata": {},
   "source": [
    "## Ler Dados do CSV"
   ]
  },
  {
   "cell_type": "code",
   "execution_count": null,
   "metadata": {},
   "outputs": [],
   "source": [
    "data_imo = pd.read_csv('dados/dados_imovirtual_08_04.csv', engine='python', encoding='utf8')\n",
    "pd.set_option('display.max_columns', 999)\n",
    "data_imo"
   ]
  },
  {
   "cell_type": "markdown",
   "metadata": {},
   "source": [
    "## Pré processamento diferenciado por tipologias"
   ]
  },
  {
   "cell_type": "markdown",
   "metadata": {},
   "source": [
    "** Listar todas as tipologias existentes **"
   ]
  },
  {
   "cell_type": "code",
   "execution_count": null,
   "metadata": {},
   "outputs": [],
   "source": [
    "data_imo['Tipo de imóvel'].unique()"
   ]
  },
  {
   "cell_type": "markdown",
   "metadata": {},
   "source": [
    "#### Separar os dados por tipo de imóvel"
   ]
  },
  {
   "cell_type": "code",
   "execution_count": null,
   "metadata": {},
   "outputs": [],
   "source": [
    "data_imo_apartamentos = data_imo.loc[(data_imo['Tipo de imóvel'] == 'Apartamento')]\n",
    "data_imo_moradias = data_imo.loc[(data_imo['Tipo de imóvel'] == 'Moradia')]\n",
    "data_imo_terreno = data_imo.loc[(data_imo['Tipo de imóvel']== 'Terreno')]\n",
    "data_imo_quintas = data_imo.loc[(data_imo['Tipo de imóvel']== 'Quintas')]\n",
    "data_imo_prédio = data_imo.loc[(data_imo['Tipo de imóvel']== 'Prédio')]\n",
    "data_imo_loja = data_imo.loc[(data_imo['Tipo de imóvel']== 'Loja')]\n",
    "data_imo_trespasses = data_imo.loc[(data_imo['Tipo de imóvel']== 'Trespasses')]\n",
    "data_imo_escritório = data_imo.loc[(data_imo['Tipo de imóvel']== 'Escritório')]\n",
    "data_imo_armazém = data_imo.loc[(data_imo['Tipo de imóvel']== 'Armazém')]\n",
    "data_imo_garagem = data_imo.loc[(data_imo['Tipo de imóvel']== 'Garagem')]\n",
    "#data_imo_outros = data_imo.loc[(data_imo['Tipo de imóvel']== None) | pd.isna(data_imo['Tipo de imóvel'])]"
   ]
  },
  {
   "cell_type": "markdown",
   "metadata": {},
   "source": [
    "## Dados - Apartamentos"
   ]
  },
  {
   "cell_type": "code",
   "execution_count": null,
   "metadata": {},
   "outputs": [],
   "source": [
    "data_imo_apartamentos.head()\n",
    "data_imo_apartamentos.info()\n",
    "pd.set_option('display.max_rows', 20)"
   ]
  },
  {
   "cell_type": "markdown",
   "metadata": {},
   "source": [
    "#### Dados em falta por linha"
   ]
  },
  {
   "cell_type": "code",
   "execution_count": null,
   "metadata": {},
   "outputs": [],
   "source": [
    "percent_missing = (1 - data_imo_apartamentos.apply(lambda x: x.count(), axis=1) / len(data_imo_apartamentos.columns)) * 100\n",
    "missing_value_data_imo_apartamentos_rows = pd.DataFrame({'percent_missing (%)': percent_missing})\n",
    "missing_value_data_imo_apartamentos_rows.sort_values('percent_missing (%)', inplace=True, ascending=False)\n",
    "missing_value_data_imo_apartamentos_rows"
   ]
  },
  {
   "cell_type": "markdown",
   "metadata": {},
   "source": [
    "#### Dados em falta por coluna"
   ]
  },
  {
   "cell_type": "code",
   "execution_count": null,
   "metadata": {},
   "outputs": [],
   "source": [
    "percent_missing = data_imo_apartamentos.isnull().sum() * 100 / len(data_imo_apartamentos)\n",
    "missing_value_data_imo_apartamentos_columns = pd.DataFrame({'percent_missing (%)': percent_missing})\n",
    "missing_value_data_imo_apartamentos_columns.sort_values('percent_missing (%)', inplace=True, ascending=False)\n",
    "pd.set_option('display.max_rows', 20)\n",
    "missing_value_data_imo_apartamentos_columns"
   ]
  },
  {
   "cell_type": "markdown",
   "metadata": {},
   "source": [
    "### Retirar as colunas que têm 99% de missing values"
   ]
  },
  {
   "cell_type": "code",
   "execution_count": null,
   "metadata": {},
   "outputs": [],
   "source": [
    "a_manter = list(missing_value_data_imo_apartamentos_columns.index[missing_value_data_imo_apartamentos_columns['percent_missing (%)'] < 99])\n",
    "print(len(a_manter))\n",
    "print(a_manter)\n",
    "data_imo_apartamentos = data_imo_apartamentos[a_manter]\n",
    "data_imo_apartamentos"
   ]
  },
  {
   "cell_type": "markdown",
   "metadata": {},
   "source": [
    "## Dados - Moradias"
   ]
  },
  {
   "cell_type": "code",
   "execution_count": null,
   "metadata": {},
   "outputs": [],
   "source": [
    "data_imo_moradias.head()\n",
    "data_imo_moradias.info()\n",
    "pd.set_option('display.max_rows', 20)"
   ]
  },
  {
   "cell_type": "markdown",
   "metadata": {},
   "source": [
    "#### Dados em falta por linha"
   ]
  },
  {
   "cell_type": "code",
   "execution_count": null,
   "metadata": {},
   "outputs": [],
   "source": [
    "percent_missing = (1 - data_imo_moradias.apply(lambda x: x.count(), axis=1) / len(data_imo_moradias.columns)) * 100\n",
    "missing_value_data_imo_moradias_rows = pd.DataFrame({'percent_missing (%)': percent_missing})\n",
    "missing_value_data_imo_moradias_rows.sort_values('percent_missing (%)', inplace=True, ascending=False)\n",
    "missing_value_data_imo_moradias_rows"
   ]
  },
  {
   "cell_type": "markdown",
   "metadata": {},
   "source": [
    "#### Dados em falta por coluna"
   ]
  },
  {
   "cell_type": "code",
   "execution_count": null,
   "metadata": {},
   "outputs": [],
   "source": [
    "percent_missing = data_imo_moradias.isnull().sum() * 100 / len(data_imo_moradias)\n",
    "missing_value_data_imo_moradias_columns = pd.DataFrame({'percent_missing (%)': percent_missing})\n",
    "missing_value_data_imo_moradias_columns.sort_values('percent_missing (%)', inplace=True, ascending=False)\n",
    "pd.set_option('display.max_rows', 20)\n",
    "missing_value_data_imo_moradias_columns"
   ]
  },
  {
   "cell_type": "markdown",
   "metadata": {},
   "source": [
    "### Retirar as colunas que têm 99% de missing values"
   ]
  },
  {
   "cell_type": "code",
   "execution_count": null,
   "metadata": {},
   "outputs": [],
   "source": [
    "a_manter = list(missing_value_data_imo_moradias_columns.index[missing_value_data_imo_moradias_columns['percent_missing (%)'] < 99])\n",
    "print(len(a_manter))\n",
    "print(a_manter)\n",
    "data_imo_moradias = data_imo_moradias[a_manter]\n",
    "data_imo_moradias"
   ]
  },
  {
   "cell_type": "markdown",
   "metadata": {},
   "source": [
    "## Dados - Terreno"
   ]
  },
  {
   "cell_type": "code",
   "execution_count": null,
   "metadata": {},
   "outputs": [],
   "source": [
    "data_imo_terreno.head()\n",
    "data_imo_terreno.info()\n",
    "pd.set_option('display.max_rows', 20)"
   ]
  },
  {
   "cell_type": "markdown",
   "metadata": {},
   "source": [
    "#### Dados em falta por linha"
   ]
  },
  {
   "cell_type": "code",
   "execution_count": null,
   "metadata": {},
   "outputs": [],
   "source": [
    "percent_missing = (1 - data_imo_terreno.apply(lambda x: x.count(), axis=1) / len(data_imo_terreno.columns)) * 100\n",
    "missing_value_data_imo_terreno_rows = pd.DataFrame({'percent_missing (%)': percent_missing})\n",
    "missing_value_data_imo_terreno_rows.sort_values('percent_missing (%)', inplace=True, ascending=False)\n",
    "missing_value_data_imo_terreno_rows"
   ]
  },
  {
   "cell_type": "markdown",
   "metadata": {},
   "source": [
    "#### Dados em falta por coluna"
   ]
  },
  {
   "cell_type": "code",
   "execution_count": null,
   "metadata": {},
   "outputs": [],
   "source": [
    "percent_missing = data_imo_terreno.isnull().sum() * 100 / len(data_imo_terreno)\n",
    "missing_value_data_imo_terreno_columns = pd.DataFrame({'percent_missing (%)': percent_missing})\n",
    "missing_value_data_imo_terreno_columns.sort_values('percent_missing (%)', inplace=True, ascending=False)\n",
    "pd.set_option('display.max_rows', 20)\n",
    "missing_value_data_imo_terreno_columns"
   ]
  },
  {
   "cell_type": "markdown",
   "metadata": {},
   "source": [
    "### Retirar as colunas que têm 99% de missing values"
   ]
  },
  {
   "cell_type": "code",
   "execution_count": null,
   "metadata": {},
   "outputs": [],
   "source": [
    "a_manter = list(missing_value_data_imo_terreno_columns.index[missing_value_data_imo_terreno_columns['percent_missing (%)'] < 99])\n",
    "print(len(a_manter))\n",
    "print(a_manter)\n",
    "data_imo_terreno = data_imo_terreno[a_manter]\n",
    "data_imo_terreno"
   ]
  },
  {
   "cell_type": "markdown",
   "metadata": {},
   "source": [
    "## Dados - Quintas"
   ]
  },
  {
   "cell_type": "code",
   "execution_count": null,
   "metadata": {},
   "outputs": [],
   "source": [
    "data_imo_quintas.head()\n",
    "data_imo_quintas.info()\n",
    "pd.set_option('display.max_rows', 20)"
   ]
  },
  {
   "cell_type": "markdown",
   "metadata": {},
   "source": [
    "#### Dados em falta por linha"
   ]
  },
  {
   "cell_type": "code",
   "execution_count": null,
   "metadata": {},
   "outputs": [],
   "source": [
    "percent_missing = (1 - data_imo_quintas.apply(lambda x: x.count(), axis=1) / len(data_imo_quintas.columns)) * 100\n",
    "missing_value_data_imo_quintas_rows = pd.DataFrame({'percent_missing (%)': percent_missing})\n",
    "missing_value_data_imo_quintas_rows.sort_values('percent_missing (%)', inplace=True, ascending=False)\n",
    "missing_value_data_imo_quintas_rows"
   ]
  },
  {
   "cell_type": "markdown",
   "metadata": {},
   "source": [
    "#### Dados em falta por coluna"
   ]
  },
  {
   "cell_type": "code",
   "execution_count": null,
   "metadata": {},
   "outputs": [],
   "source": [
    "percent_missing = data_imo_quintas.isnull().sum() * 100 / len(data_imo_quintas)\n",
    "missing_value_data_imo_quintas_columns = pd.DataFrame({'percent_missing (%)': percent_missing})\n",
    "missing_value_data_imo_quintas_columns.sort_values('percent_missing (%)', inplace=True, ascending=False)\n",
    "pd.set_option('display.max_rows', 20)\n",
    "missing_value_data_imo_quintas_columns"
   ]
  },
  {
   "cell_type": "markdown",
   "metadata": {},
   "source": [
    "### Retirar as colunas que têm 99% de missing values (NÃO HÁ)"
   ]
  },
  {
   "cell_type": "code",
   "execution_count": null,
   "metadata": {},
   "outputs": [],
   "source": [
    "a_manter = list(missing_value_data_imo_quintas_columns.index[missing_value_data_imo_quintas_columns['percent_missing (%)'] < 99])\n",
    "print(len(a_manter))\n",
    "print(a_manter)\n",
    "data_imo_quintas = data_imo_quintas[a_manter]\n",
    "data_imo_quintas"
   ]
  },
  {
   "cell_type": "markdown",
   "metadata": {},
   "source": [
    "## Dados - Prédio"
   ]
  },
  {
   "cell_type": "code",
   "execution_count": null,
   "metadata": {},
   "outputs": [],
   "source": [
    "data_imo_prédio.head()\n",
    "data_imo_prédio.info()\n",
    "pd.set_option('display.max_rows', 20)"
   ]
  },
  {
   "cell_type": "markdown",
   "metadata": {},
   "source": [
    "#### Dados em falta por linha"
   ]
  },
  {
   "cell_type": "code",
   "execution_count": null,
   "metadata": {},
   "outputs": [],
   "source": [
    "percent_missing = (1 - data_imo_prédio.apply(lambda x: x.count(), axis=1) / len(data_imo_prédio.columns)) * 100\n",
    "missing_value_data_imo_prédio_rows = pd.DataFrame({'percent_missing (%)': percent_missing})\n",
    "missing_value_data_imo_prédio_rows.sort_values('percent_missing (%)', inplace=True, ascending=False)\n",
    "missing_value_data_imo_prédio_rows"
   ]
  },
  {
   "cell_type": "markdown",
   "metadata": {},
   "source": [
    "#### Dados em falta por coluna"
   ]
  },
  {
   "cell_type": "code",
   "execution_count": null,
   "metadata": {},
   "outputs": [],
   "source": [
    "percent_missing = data_imo_prédio.isnull().sum() * 100 / len(data_imo_prédio)\n",
    "missing_value_data_imo_prédio_columns = pd.DataFrame({'percent_missing (%)': percent_missing})\n",
    "missing_value_data_imo_prédio_columns.sort_values('percent_missing (%)', inplace=True, ascending=False)\n",
    "pd.set_option('display.max_rows', 20)\n",
    "missing_value_data_imo_prédio_columns"
   ]
  },
  {
   "cell_type": "markdown",
   "metadata": {},
   "source": [
    "### Retirar as colunas que têm 99% de missing values"
   ]
  },
  {
   "cell_type": "code",
   "execution_count": null,
   "metadata": {},
   "outputs": [],
   "source": [
    "a_manter = list(missing_value_data_imo_prédio_columns.index[missing_value_data_imo_prédio_columns['percent_missing (%)'] < 99])\n",
    "print(len(a_manter))\n",
    "print(a_manter)\n",
    "data_imo_prédio = data_imo_prédio[a_manter]\n",
    "data_imo_prédio"
   ]
  },
  {
   "cell_type": "markdown",
   "metadata": {},
   "source": [
    "## Dados - Loja"
   ]
  },
  {
   "cell_type": "code",
   "execution_count": null,
   "metadata": {},
   "outputs": [],
   "source": [
    "data_imo_loja.head()\n",
    "data_imo_loja.info()\n",
    "pd.set_option('display.max_rows', 20)"
   ]
  },
  {
   "cell_type": "markdown",
   "metadata": {},
   "source": [
    "#### Dados em falta por linha"
   ]
  },
  {
   "cell_type": "code",
   "execution_count": null,
   "metadata": {},
   "outputs": [],
   "source": [
    "percent_missing = (1 - data_imo_loja.apply(lambda x: x.count(), axis=1) / len(data_imo_loja.columns)) * 100\n",
    "missing_value_data_imo_loja_rows = pd.DataFrame({'percent_missing (%)': percent_missing})\n",
    "missing_value_data_imo_loja_rows.sort_values('percent_missing (%)', inplace=True, ascending=False)\n",
    "missing_value_data_imo_loja_rows"
   ]
  },
  {
   "cell_type": "markdown",
   "metadata": {},
   "source": [
    "#### Dados em falta por coluna"
   ]
  },
  {
   "cell_type": "code",
   "execution_count": null,
   "metadata": {},
   "outputs": [],
   "source": [
    "percent_missing = data_imo_loja.isnull().sum() * 100 / len(data_imo_loja)\n",
    "missing_value_data_imo_loja_columns = pd.DataFrame({'percent_missing (%)': percent_missing})\n",
    "missing_value_data_imo_loja_columns.sort_values('percent_missing (%)', inplace=True, ascending=False)\n",
    "pd.set_option('display.max_rows', 20)\n",
    "missing_value_data_imo_loja_columns"
   ]
  },
  {
   "cell_type": "markdown",
   "metadata": {},
   "source": [
    "### Retirar as colunas que têm 99% de missing values"
   ]
  },
  {
   "cell_type": "code",
   "execution_count": null,
   "metadata": {},
   "outputs": [],
   "source": [
    "a_manter = list(missing_value_data_imo_loja_columns.index[missing_value_data_imo_loja_columns['percent_missing (%)'] < 99])\n",
    "print(len(a_manter))\n",
    "print(a_manter)\n",
    "data_imo_loja = data_imo_loja[a_manter]\n",
    "data_imo_loja"
   ]
  },
  {
   "cell_type": "markdown",
   "metadata": {},
   "source": [
    "## Dados - Trespasses"
   ]
  },
  {
   "cell_type": "code",
   "execution_count": null,
   "metadata": {},
   "outputs": [],
   "source": [
    "data_imo_trespasses.head()\n",
    "data_imo_trespasses.info()\n",
    "pd.set_option('display.max_rows', 20)"
   ]
  },
  {
   "cell_type": "markdown",
   "metadata": {},
   "source": [
    "#### Dados em falta por linha"
   ]
  },
  {
   "cell_type": "code",
   "execution_count": null,
   "metadata": {},
   "outputs": [],
   "source": [
    "percent_missing = (1 - data_imo_trespasses.apply(lambda x: x.count(), axis=1) / len(data_imo_trespasses.columns)) * 100\n",
    "missing_value_data_imo_trespasses_rows = pd.DataFrame({'percent_missing (%)': percent_missing})\n",
    "missing_value_data_imo_trespasses_rows.sort_values('percent_missing (%)', inplace=True, ascending=False)\n",
    "missing_value_data_imo_trespasses_rows"
   ]
  },
  {
   "cell_type": "markdown",
   "metadata": {},
   "source": [
    "#### Dados em falta por coluna"
   ]
  },
  {
   "cell_type": "code",
   "execution_count": null,
   "metadata": {},
   "outputs": [],
   "source": [
    "percent_missing = data_imo_trespasses.isnull().sum() * 100 / len(data_imo_trespasses)\n",
    "missing_value_data_imo_trespasses_columns = pd.DataFrame({'percent_missing (%)': percent_missing})\n",
    "missing_value_data_imo_trespasses_columns.sort_values('percent_missing (%)', inplace=True, ascending=False)\n",
    "pd.set_option('display.max_rows', 20)\n",
    "missing_value_data_imo_trespasses_columns"
   ]
  },
  {
   "cell_type": "markdown",
   "metadata": {},
   "source": [
    "### Retirar as colunas que têm 99% de missing values (NÃO HÁ)"
   ]
  },
  {
   "cell_type": "code",
   "execution_count": null,
   "metadata": {},
   "outputs": [],
   "source": [
    "a_manter = list(missing_value_data_imo_trespasses_columns.index[missing_value_data_imo_trespasses_columns['percent_missing (%)'] < 100])\n",
    "print(len(a_manter))\n",
    "print(a_manter)\n",
    "data_imo_trespasses = data_imo_trespasses[a_manter]\n",
    "data_imo_trespasses"
   ]
  },
  {
   "cell_type": "markdown",
   "metadata": {},
   "source": [
    "## Dados - Escritório"
   ]
  },
  {
   "cell_type": "code",
   "execution_count": null,
   "metadata": {},
   "outputs": [],
   "source": [
    "data_imo_escritório.head()\n",
    "data_imo_escritório.info()\n",
    "pd.set_option('display.max_rows', 20)"
   ]
  },
  {
   "cell_type": "markdown",
   "metadata": {},
   "source": [
    "#### Dados em falta por linha"
   ]
  },
  {
   "cell_type": "code",
   "execution_count": null,
   "metadata": {},
   "outputs": [],
   "source": [
    "percent_missing = (1 - data_imo_escritório.apply(lambda x: x.count(), axis=1) / len(data_imo_escritório.columns)) * 100\n",
    "missing_value_data_imo_escritório_rows = pd.DataFrame({'percent_missing (%)': percent_missing})\n",
    "missing_value_data_imo_escritório_rows.sort_values('percent_missing (%)', inplace=True, ascending=False)\n",
    "missing_value_data_imo_escritório_rows"
   ]
  },
  {
   "cell_type": "markdown",
   "metadata": {},
   "source": [
    "#### Dados em falta por coluna"
   ]
  },
  {
   "cell_type": "code",
   "execution_count": null,
   "metadata": {},
   "outputs": [],
   "source": [
    "percent_missing = data_imo_escritório.isnull().sum() * 100 / len(data_imo_escritório)\n",
    "missing_value_data_imo_escritório_columns = pd.DataFrame({'percent_missing (%)': percent_missing})\n",
    "missing_value_data_imo_escritório_columns.sort_values('percent_missing (%)', inplace=True, ascending=False)\n",
    "pd.set_option('display.max_rows', 20)\n",
    "missing_value_data_imo_escritório_columns"
   ]
  },
  {
   "cell_type": "markdown",
   "metadata": {},
   "source": [
    "### Retirar as colunas que têm 99% de missing values (NÃO HÁ)"
   ]
  },
  {
   "cell_type": "code",
   "execution_count": null,
   "metadata": {},
   "outputs": [],
   "source": [
    "a_manter = list(missing_value_data_imo_escritório_columns.index[missing_value_data_imo_escritório_columns['percent_missing (%)'] < 99])\n",
    "print(len(a_manter))\n",
    "print(a_manter)\n",
    "data_imo_escritório = data_imo_escritório[a_manter]\n",
    "data_imo_escritório"
   ]
  },
  {
   "cell_type": "markdown",
   "metadata": {},
   "source": [
    "## Dados - Armazém"
   ]
  },
  {
   "cell_type": "code",
   "execution_count": null,
   "metadata": {},
   "outputs": [],
   "source": [
    "data_imo_armazém.head()\n",
    "data_imo_armazém.info()\n",
    "pd.set_option('display.max_rows', 20)"
   ]
  },
  {
   "cell_type": "markdown",
   "metadata": {},
   "source": [
    "#### Dados em falta por linha"
   ]
  },
  {
   "cell_type": "code",
   "execution_count": null,
   "metadata": {},
   "outputs": [],
   "source": [
    "percent_missing = (1 - data_imo_armazém.apply(lambda x: x.count(), axis=1) / len(data_imo_armazém.columns)) * 100\n",
    "missing_value_data_imo_armazém_rows = pd.DataFrame({'percent_missing (%)': percent_missing})\n",
    "missing_value_data_imo_armazém_rows.sort_values('percent_missing (%)', inplace=True, ascending=False)\n",
    "missing_value_data_imo_armazém_rows"
   ]
  },
  {
   "cell_type": "markdown",
   "metadata": {},
   "source": [
    "#### Dados em falta por coluna"
   ]
  },
  {
   "cell_type": "code",
   "execution_count": null,
   "metadata": {},
   "outputs": [],
   "source": [
    "percent_missing = data_imo_armazém.isnull().sum() * 100 / len(data_imo_armazém)\n",
    "missing_value_data_imo_armazém_columns = pd.DataFrame({'percent_missing (%)': percent_missing})\n",
    "missing_value_data_imo_armazém_columns.sort_values('percent_missing (%)', inplace=True, ascending=False)\n",
    "pd.set_option('display.max_rows', 20)\n",
    "missing_value_data_imo_armazém_columns"
   ]
  },
  {
   "cell_type": "markdown",
   "metadata": {},
   "source": [
    "### Retirar as colunas que têm 99% de missing values (NÃO HÁ)"
   ]
  },
  {
   "cell_type": "code",
   "execution_count": null,
   "metadata": {},
   "outputs": [],
   "source": [
    "a_manter = list(missing_value_data_imo_armazém_columns.index[missing_value_data_imo_armazém_columns['percent_missing (%)'] < 99])\n",
    "print(len(a_manter))\n",
    "print(a_manter)\n",
    "data_imo_armazém = data_imo_armazém[a_manter]\n",
    "data_imo_armazém"
   ]
  },
  {
   "cell_type": "markdown",
   "metadata": {},
   "source": [
    "## Dados - Garagem"
   ]
  },
  {
   "cell_type": "code",
   "execution_count": null,
   "metadata": {},
   "outputs": [],
   "source": [
    "data_imo_garagem.head()\n",
    "data_imo_garagem.info()\n",
    "pd.set_option('display.max_rows', 20)"
   ]
  },
  {
   "cell_type": "markdown",
   "metadata": {},
   "source": [
    "#### Dados em falta por linha"
   ]
  },
  {
   "cell_type": "code",
   "execution_count": null,
   "metadata": {},
   "outputs": [],
   "source": [
    "percent_missing = (1 - data_imo_garagem.apply(lambda x: x.count(), axis=1) / len(data_imo_garagem.columns)) * 100\n",
    "missing_value_data_imo_garagem_rows = pd.DataFrame({'percent_missing (%)': percent_missing})\n",
    "missing_value_data_imo_garagem_rows.sort_values('percent_missing (%)', inplace=True, ascending=False)\n",
    "missing_value_data_imo_garagem_rows"
   ]
  },
  {
   "cell_type": "markdown",
   "metadata": {},
   "source": [
    "#### Dados em falta por coluna"
   ]
  },
  {
   "cell_type": "code",
   "execution_count": null,
   "metadata": {},
   "outputs": [],
   "source": [
    "percent_missing = data_imo_garagem.isnull().sum() * 100 / len(data_imo_garagem)\n",
    "missing_value_data_imo_garagem_columns = pd.DataFrame({'percent_missing (%)': percent_missing})\n",
    "missing_value_data_imo_garagem_columns.sort_values('percent_missing (%)', inplace=True, ascending=False)\n",
    "pd.set_option('display.max_rows', 20)\n",
    "missing_value_data_imo_garagem_columns"
   ]
  },
  {
   "cell_type": "markdown",
   "metadata": {},
   "source": [
    "### Retirar as colunas que têm 99% de missing values (NÃO HÁ)"
   ]
  },
  {
   "cell_type": "code",
   "execution_count": null,
   "metadata": {},
   "outputs": [],
   "source": [
    "a_manter = list(missing_value_data_imo_garagem_columns.index[missing_value_data_imo_garagem_columns['percent_missing (%)'] < 99])\n",
    "print(len(a_manter))\n",
    "print(a_manter)\n",
    "data_imo_garagem = data_imo_garagem[a_manter]\n",
    "data_imo_garagem"
   ]
  },
  {
   "cell_type": "code",
   "execution_count": null,
   "metadata": {},
   "outputs": [],
   "source": []
  }
 ],
 "metadata": {
  "kernelspec": {
   "display_name": "Python 3",
   "language": "python",
   "name": "python3"
  },
  "language_info": {
   "codemirror_mode": {
    "name": "ipython",
    "version": 3
   },
   "file_extension": ".py",
   "mimetype": "text/x-python",
   "name": "python",
   "nbconvert_exporter": "python",
   "pygments_lexer": "ipython3",
   "version": "3.7.6"
  }
 },
 "nbformat": 4,
 "nbformat_minor": 4
}
