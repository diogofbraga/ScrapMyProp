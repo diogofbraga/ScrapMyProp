{
 "cells": [
  {
   "cell_type": "markdown",
   "metadata": {},
   "source": [
    "# Scrap My Prop\n",
    "\n",
    "### Laboratórios de Engenharia Informática\n",
    "\n",
    "**\"Development of an IT solution for the extraction and automatic analysis of data and relevant information for the calculation of land and properties.\"**"
   ]
  },
  {
   "cell_type": "markdown",
   "metadata": {},
   "source": [
    "## Importar Bibliotecas Python"
   ]
  },
  {
   "cell_type": "code",
   "execution_count": null,
   "metadata": {},
   "outputs": [],
   "source": [
    "import pandas as pd\n",
    "import numpy as np\n",
    "import seaborn as sns\n",
    "import matplotlib.pyplot as plt\n",
    "import re\n",
    "from scipy import stats\n",
    "from collections import defaultdict"
   ]
  },
  {
   "cell_type": "markdown",
   "metadata": {},
   "source": [
    "# 'ERA'"
   ]
  },
  {
   "cell_type": "markdown",
   "metadata": {},
   "source": [
    "## Ler Dados do CSV"
   ]
  },
  {
   "cell_type": "code",
   "execution_count": null,
   "metadata": {},
   "outputs": [],
   "source": [
    "data_era = pd.read_csv('dados/dados_era_01_04.csv')\n",
    "pd.set_option('display.max_columns', None)\n",
    "data_era.head()"
   ]
  },
  {
   "cell_type": "markdown",
   "metadata": {},
   "source": [
    "## Pré-processamento comum a todo o Dataset"
   ]
  },
  {
   "cell_type": "markdown",
   "metadata": {},
   "source": [
    "**Funções auxiliares**"
   ]
  },
  {
   "cell_type": "code",
   "execution_count": null,
   "metadata": {},
   "outputs": [],
   "source": [
    "def ajustPreco(string):\n",
    "    res = re.sub(r\"(.*?)€\",r\"\\1\",string)\n",
    "    res = res.replace(\".\", \"\")\n",
    "    res = pd.to_numeric(res, errors='ignore')\n",
    "    return res"
   ]
  },
  {
   "cell_type": "markdown",
   "metadata": {},
   "source": [
    "**Colunas 'Distrito' e 'Concelho': Retirar colunas de forma total porque já era uma pré-condição do projeto, mas primeiro verificar se, de facto, todos os campos estão preenchidos com 'Braga';**"
   ]
  },
  {
   "cell_type": "code",
   "execution_count": null,
   "metadata": {},
   "outputs": [],
   "source": [
    "print(\"Distritos existentes:\", data_era['Distrito'].unique())\n",
    "print(\"Concelhos existentes:\", data_era['Concelho'].unique())"
   ]
  },
  {
   "cell_type": "code",
   "execution_count": null,
   "metadata": {},
   "outputs": [],
   "source": [
    "if 'Distrito' in data_era.columns:\n",
    "    data_era = data_era.drop(['Distrito'], axis = 1) \n",
    "if 'Concelho' in data_era.columns:\n",
    "    data_era = data_era.drop(['Concelho'], axis = 1) "
   ]
  },
  {
   "cell_type": "markdown",
   "metadata": {},
   "source": [
    "**Colunas 'Nome' e 'Referência': Não são características dos imóveis mas sim identificadores, portanto não devem entrar nos cálculos (Drop);**"
   ]
  },
  {
   "cell_type": "code",
   "execution_count": null,
   "metadata": {},
   "outputs": [],
   "source": [
    "if 'Nome' in data_era.columns:\n",
    "    data_era = data_era.drop(['Nome'], axis = 1) \n",
    "if 'Referência' in data_era.columns:\n",
    "    data_era = data_era.drop(['Referência'], axis = 1) "
   ]
  },
  {
   "cell_type": "markdown",
   "metadata": {},
   "source": [
    "**Coluna 'Preço de Venda': Drop dos imóveis que estão 'Sob Consulta'; Retirar símbolo '€'; Transformar em dado numérico;**"
   ]
  },
  {
   "cell_type": "code",
   "execution_count": null,
   "metadata": {
    "scrolled": false
   },
   "outputs": [],
   "source": [
    "data_era = data_era.drop(data_era[(data_era['Preço de Venda'] == 'Sob Consulta')].index)\n",
    "data_era.index = np.arange(1, len(data_era) + 1)\n",
    "data_era['Preço de Venda'] = data_era['Preço de Venda'].apply(ajustPreco)\n",
    "data_era.head()"
   ]
  },
  {
   "cell_type": "markdown",
   "metadata": {},
   "source": [
    "**Coluna 'Freguesia': Não podem existir valores nulos nesta coluna, senão estamos a perder o principal fator de diferenciação dos preços;**"
   ]
  },
  {
   "cell_type": "code",
   "execution_count": null,
   "metadata": {},
   "outputs": [],
   "source": [
    "data_era['Freguesia'].isnull().values.any()"
   ]
  },
  {
   "cell_type": "markdown",
   "metadata": {},
   "source": [
    "**Coluna 'Estado': 'N/D' deve passar a notação que seja interpretada pelas bibliotecas do Python ('NaN')**"
   ]
  },
  {
   "cell_type": "code",
   "execution_count": null,
   "metadata": {},
   "outputs": [],
   "source": [
    "data_era = data_era.replace('N/D',np.nan)"
   ]
  },
  {
   "cell_type": "code",
   "execution_count": null,
   "metadata": {},
   "outputs": [],
   "source": [
    "data_era.info()"
   ]
  },
  {
   "cell_type": "markdown",
   "metadata": {},
   "source": [
    "## Pré-processamento diferenciado por tipologia"
   ]
  },
  {
   "cell_type": "markdown",
   "metadata": {},
   "source": [
    "**Listar todas as tipologias existentes**"
   ]
  },
  {
   "cell_type": "code",
   "execution_count": null,
   "metadata": {},
   "outputs": [],
   "source": [
    "data_era['Tipo de Imóvel'].unique()"
   ]
  },
  {
   "cell_type": "markdown",
   "metadata": {},
   "source": [
    "**Dividir os dados por tipologia**"
   ]
  },
  {
   "cell_type": "code",
   "execution_count": null,
   "metadata": {},
   "outputs": [],
   "source": [
    "data_era_moradias = data_era.loc[(data_era['Tipo de Imóvel'] == 'Moradia em Banda') | (data_era['Tipo de Imóvel'] == 'Moradia Geminada') | (data_era['Tipo de Imóvel'] == 'Moradia Isolada') | (data_era['Tipo de Imóvel'] == 'Moradia') | (data_era['Tipo de Imóvel'] == 'Andar Moradia') | (data_era['Tipo de Imóvel'] == 'Moradia Rústica')]\n",
    "data_era_moradias.index = np.arange(1, len(data_era_moradias) + 1)"
   ]
  },
  {
   "cell_type": "markdown",
   "metadata": {},
   "source": [
    "## Dados - Moradias"
   ]
  },
  {
   "cell_type": "code",
   "execution_count": null,
   "metadata": {},
   "outputs": [],
   "source": [
    "data_era_moradias.head()"
   ]
  },
  {
   "cell_type": "code",
   "execution_count": null,
   "metadata": {},
   "outputs": [],
   "source": [
    "data_era_moradias.info()"
   ]
  },
  {
   "cell_type": "markdown",
   "metadata": {},
   "source": [
    "**Análise exploratória de dados**"
   ]
  },
  {
   "cell_type": "markdown",
   "metadata": {},
   "source": [
    "*Distribuição da feature 'Preço de Venda'*"
   ]
  },
  {
   "cell_type": "code",
   "execution_count": null,
   "metadata": {},
   "outputs": [],
   "source": [
    "fig = plt.figure(figsize = (20,5))\n",
    "sns.set_style('darkgrid')\n",
    "data_era_moradias['Preço de Venda'].hist(bins=30)\n",
    "plt.xlabel('Preço de Venda')"
   ]
  },
  {
   "cell_type": "code",
   "execution_count": null,
   "metadata": {},
   "outputs": [],
   "source": [
    "fig = plt.figure(figsize = (10,3))\n",
    "sns.boxplot(x=data_era_moradias['Preço de Venda'])"
   ]
  },
  {
   "cell_type": "markdown",
   "metadata": {},
   "source": [
    "*Relacionamento do 'Preço de Venda' com outras features numéricas importantes*"
   ]
  },
  {
   "cell_type": "code",
   "execution_count": null,
   "metadata": {
    "scrolled": false
   },
   "outputs": [],
   "source": [
    "fig = plt.figure(figsize = (25,10))\n",
    "\n",
    "ax1 = fig.add_subplot(2,3,1)\n",
    "ax1.scatter(data_era_moradias['Área Útil'], data_era_moradias['Preço de Venda'])\n",
    "ax1.set_xlabel('Área Útil')\n",
    "ax1.set_ylabel('Preço de Venda')\n",
    "\n",
    "ax2 = fig.add_subplot(2,3,2)\n",
    "ax2.scatter(data_era_moradias['Área Terreno'], data_era_moradias['Preço de Venda'])\n",
    "ax2.set_xlabel('Área Terreno')\n",
    "ax2.set_ylabel('Preço de Venda')\n",
    "\n",
    "ax3 = fig.add_subplot(2,3,4)\n",
    "ax3.scatter(data_era_moradias['Nº Quartos'], data_era_moradias['Preço de Venda'])\n",
    "ax3.set_xlabel('Nº Quartos')\n",
    "ax3.set_ylabel('Preço de Venda')\n"
   ]
  },
  {
   "cell_type": "markdown",
   "metadata": {},
   "source": [
    "*Relacionamento do 'Preço de Venda' com outras features categóricas importantes*"
   ]
  },
  {
   "cell_type": "code",
   "execution_count": null,
   "metadata": {},
   "outputs": [],
   "source": [
    "#cat_data = data_era_moradias.select_dtypes(include=['object'])\n",
    "cat_data = data_era_moradias[['Freguesia']]"
   ]
  },
  {
   "cell_type": "code",
   "execution_count": null,
   "metadata": {
    "scrolled": false
   },
   "outputs": [],
   "source": [
    "for cat in cat_data.dtypes[:10].index.values:\n",
    "    plt.figure(figsize=(20, 8))\n",
    "    plt.xticks(rotation=90)\n",
    "    sns.boxplot(x=cat, y='Preço de Venda', data=data_era_moradias) \n",
    "    sns.swarmplot(x=cat, y='Preço de Venda', data=data_era_moradias)\n",
    "    plt.show()"
   ]
  },
  {
   "cell_type": "markdown",
   "metadata": {},
   "source": [
    "**Remoção de Outliers**"
   ]
  },
  {
   "cell_type": "markdown",
   "metadata": {},
   "source": [
    "*Através da visualização dos gráficos*"
   ]
  },
  {
   "cell_type": "code",
   "execution_count": null,
   "metadata": {},
   "outputs": [],
   "source": [
    "outliers = data_era_moradias.loc[data_era_moradias['Preço de Venda'] > 500000].index\n",
    "data_era_moradias = data_era_moradias.drop(outliers)\n",
    "data_era_moradias.index = np.arange(1, len(data_era_moradias) + 1)\n",
    "data_era_moradias.shape"
   ]
  },
  {
   "cell_type": "code",
   "execution_count": null,
   "metadata": {
    "scrolled": false
   },
   "outputs": [],
   "source": [
    "fig = plt.figure(figsize = (20,5))\n",
    "sns.set_style('darkgrid')\n",
    "data_era_moradias['Preço de Venda'].hist(bins=30)\n",
    "plt.xlabel('Preço de Venda')"
   ]
  },
  {
   "cell_type": "markdown",
   "metadata": {},
   "source": [
    "*Através de métodos matemáticos*"
   ]
  },
  {
   "cell_type": "code",
   "execution_count": null,
   "metadata": {
    "scrolled": true
   },
   "outputs": [],
   "source": [
    "#z = np.abs(stats.zscore(data_era_moradias[['Preço de Venda']]))\n",
    "#threshold = 3\n",
    "#print(np.where(z > threshold))\n",
    "# The first array contains the list of row numbers and second array respective column numbers\n",
    "#data_era_moradias.loc[ 31 , : ]"
   ]
  },
  {
   "cell_type": "code",
   "execution_count": null,
   "metadata": {},
   "outputs": [],
   "source": [
    "# Só fazer 1 vez\n",
    "#data = data[(np.abs(stats.zscore(data)) < 3).all(axis=1)]\n",
    "#data.index = np.arange(1, len(data) + 1)\n",
    "#data"
   ]
  },
  {
   "cell_type": "markdown",
   "metadata": {},
   "source": [
    "**Dados em falta por coluna**"
   ]
  },
  {
   "cell_type": "code",
   "execution_count": null,
   "metadata": {
    "scrolled": false
   },
   "outputs": [],
   "source": [
    "percent_missing = data_era_moradias.isnull().sum() * 100 / len(data_era_moradias)\n",
    "missing_value_data_era_moradias_columns = pd.DataFrame({'percent_missing (%)': percent_missing})\n",
    "sort_data = missing_value_data_era_moradias_columns.copy()\n",
    "sort_data.sort_values('percent_missing (%)', inplace=True, ascending=False)\n",
    "sort_data"
   ]
  },
  {
   "cell_type": "markdown",
   "metadata": {},
   "source": [
    "**Remover colunas com percentagem de dados em falta superior a 30%**"
   ]
  },
  {
   "cell_type": "code",
   "execution_count": null,
   "metadata": {},
   "outputs": [],
   "source": [
    "a_manter = list(missing_value_data_era_moradias_columns.index[missing_value_data_era_moradias_columns['percent_missing (%)'] < 30])\n",
    "data_era_moradias = data_era_moradias[a_manter]"
   ]
  },
  {
   "cell_type": "markdown",
   "metadata": {},
   "source": [
    "**Dados em falta por linha**"
   ]
  },
  {
   "cell_type": "code",
   "execution_count": null,
   "metadata": {},
   "outputs": [],
   "source": [
    "percent_missing = (1 - data_era_moradias.apply(lambda x: x.count(), axis=1) / len(data_era_moradias.columns)) * 100\n",
    "missing_value_data_era_moradias_rows = pd.DataFrame({'percent_missing (%)': percent_missing})\n",
    "sort_data = missing_value_data_era_moradias_rows.copy()\n",
    "sort_data.sort_values('percent_missing (%)', inplace=True, ascending=False)\n",
    "sort_data"
   ]
  },
  {
   "cell_type": "markdown",
   "metadata": {},
   "source": [
    "**Remover linhas com percentagem de dados em falta superior a 50%**"
   ]
  },
  {
   "cell_type": "markdown",
   "metadata": {},
   "source": [
    "*De forma a não existir linhas com mais de metade da informação 'falsa'*"
   ]
  },
  {
   "cell_type": "code",
   "execution_count": null,
   "metadata": {},
   "outputs": [],
   "source": [
    "a_excluir = missing_value_data_era_moradias_rows[(missing_value_data_era_moradias_rows['percent_missing (%)'] >= 50)]\n",
    "data_era_moradias = data_era_moradias.drop(a_excluir.index)\n",
    "data_era_moradias.index = np.arange(1, len(data_era_moradias) + 1)"
   ]
  },
  {
   "cell_type": "markdown",
   "metadata": {},
   "source": [
    "**Inserir dados em falta**"
   ]
  },
  {
   "cell_type": "code",
   "execution_count": null,
   "metadata": {},
   "outputs": [],
   "source": [
    "for x in data_era_moradias.select_dtypes(include=['float64']).columns.tolist():\n",
    "    median_value=data_era_moradias[x].median()\n",
    "    data_era_moradias[x]=data_era_moradias[x].fillna(median_value)\n",
    "\n",
    "for y in data_era_moradias.select_dtypes(include=['object']).columns.tolist():\n",
    "    mode_value=data_era_moradias[y].mode()\n",
    "    data_era_moradias[y]=data_era_moradias[y].fillna(mode_value[0])    \n",
    "    \n",
    "data_era_moradias.head()"
   ]
  },
  {
   "cell_type": "code",
   "execution_count": null,
   "metadata": {},
   "outputs": [],
   "source": [
    "sns.heatmap(data_era_moradias.isnull(),yticklabels=False,cbar=False,cmap='viridis')"
   ]
  },
  {
   "cell_type": "markdown",
   "metadata": {},
   "source": [
    "## Estruturação dos Dados"
   ]
  },
  {
   "cell_type": "markdown",
   "metadata": {},
   "source": [
    "**Aplicar One Hot Encoding nas features 'Nº Quartos', 'Nº Casas de Banho', 'Nº Estacionamentos' e 'Finalidade'**"
   ]
  },
  {
   "cell_type": "code",
   "execution_count": null,
   "metadata": {},
   "outputs": [],
   "source": [
    "#data_era_moradias['Nº Quartos'].unique()\n",
    "#data_era_moradias['Nº Casas de Banho'].unique()\n",
    "#data_era_moradias['Nº Estacionamentos'].unique()\n",
    "#data_era_moradias['Finalidade'].unique()"
   ]
  },
  {
   "cell_type": "code",
   "execution_count": null,
   "metadata": {},
   "outputs": [],
   "source": [
    "n_quartos = pd.get_dummies(data_era_moradias['Nº Quartos'])\n",
    "data_era_moradias = data_era_moradias.drop('Nº Quartos',axis = 1)\n",
    "data_era_moradias = data_era_moradias.join(n_quartos)\n",
    "data_era_moradias = data_era_moradias.rename(columns={1.0: 'Nº Quartos - 1', 2.0: 'Nº Quartos - 2', \\\n",
    "                                                      3.0: 'Nº Quartos - 3', 4.0: 'Nº Quartos - 4', \\\n",
    "                                                      5.0: 'Nº Quartos - 5', 6.0: 'Nº Quartos - 6', \\\n",
    "                                                      7.0: 'Nº Quartos - 7', 8.0: 'Nº Quartos - 8'})\n",
    "\n",
    "n_casas_banho = pd.get_dummies(data_era_moradias['Nº Casas de Banho'])\n",
    "data_era_moradias = data_era_moradias.drop('Nº Casas de Banho',axis = 1)\n",
    "data_era_moradias = data_era_moradias.join(n_casas_banho)\n",
    "data_era_moradias = data_era_moradias.rename(columns={1.0: 'Nº Casas de Banho - 1', 2.0: 'Nº Casas de Banho - 2', \\\n",
    "                                                      3.0: 'Nº Casas de Banho - 3', 4.0: 'Nº Casas de Banho - 4', \\\n",
    "                                                      5.0: 'Nº Casas de Banho - 5', 6.0: 'Nº Casas de Banho - 6', \\\n",
    "                                                      7.0: 'Nº Casas de Banho - 7', 8.0: 'Nº Casas de Banho - 8',})\n",
    "\n",
    "n_estacionamentos = pd.get_dummies(data_era['Nº Estacionamentos'])\n",
    "data_era_moradias = data_era_moradias.drop('Nº Estacionamentos',axis = 1)\n",
    "data_era_moradias = data_era_moradias.join(n_estacionamentos)\n",
    "data_era_moradias = data_era_moradias.rename(columns={1.0: 'Nº Estacionamentos - 1', 2.0: 'Nº Estacionamentos - 2', \\\n",
    "                                                      3.0: 'Nº Estacionamentos - 3', 4.0: 'Nº Estacionamentos - 4', \\\n",
    "                                                      5.0: 'Nº Estacionamentos - 5', 6.0: 'Nº Estacionamentos - 6', \\\n",
    "                                                      7.0: 'Nº Estacionamentos - 7', 8.0: 'Nº Estacionamentos - 8', \\\n",
    "                                                      25.0: 'Nº Estacionamentos - 25'})\n",
    "\n",
    "finalidade = pd.get_dummies(data_era_moradias['Finalidade'])\n",
    "data_era_moradias = data_era_moradias.drop('Finalidade',axis = 1)\n",
    "data_era_moradias = data_era_moradias.join(finalidade)\n",
    "data_era_moradias = data_era_moradias.rename(columns={'Venda': 'Finalidade - Venda', 'Venda, Arrendamento': 'Finalidade - Venda Arrendamento'})"
   ]
  },
  {
   "cell_type": "markdown",
   "metadata": {},
   "source": [
    "**Estruturar dados que ainda estão em bruto na feature 'Zona'**"
   ]
  },
  {
   "cell_type": "code",
   "execution_count": null,
   "metadata": {
    "scrolled": true
   },
   "outputs": [],
   "source": [
    "#data_era_moradias['Zona'].unique()"
   ]
  },
  {
   "cell_type": "code",
   "execution_count": null,
   "metadata": {},
   "outputs": [],
   "source": [
    "def getAcessos(string):\n",
    "    return re.search(r\"Acessos:\\s(.*?);\",string)\n",
    "\n",
    "def getCentralidades(string):\n",
    "    return re.search(r\"Centralidade:\\s(.*?);\",string)\n",
    "\n",
    "def getProximidades(string):\n",
    "    return re.search(r\"Proximidade:\\s(.*?);\",string)"
   ]
  },
  {
   "cell_type": "code",
   "execution_count": null,
   "metadata": {
    "tags": [
     "outputPrepend"
    ]
   },
   "outputs": [],
   "source": [
    "zona = data_era_moradias['Zona']\n",
    "\n",
    "acessosDict = defaultdict(list)\n",
    "centralidadesDict = defaultdict(list)\n",
    "proximidadesDict = defaultdict(list)\n",
    "\n",
    "\n",
    "j = 0\n",
    "\n",
    "for value in zona:\n",
    "    j = j+1\n",
    "    if getAcessos(str(value)) is not None:\n",
    "        acessos = getAcessos(str(value))\n",
    "        for acesso in acessos.groups():\n",
    "            acesso = acesso.split(', ')\n",
    "            for x in acesso:\n",
    "                acessosDict[x].append(j)\n",
    "\n",
    "    if getCentralidades(str(value)) is not None:\n",
    "        centralidades = getCentralidades(str(value))\n",
    "        for centralidade in centralidades.groups():\n",
    "            centralidade = centralidade.split(', ')\n",
    "            for x in centralidade:\n",
    "                centralidadesDict[x].append(j)\n",
    "           \n",
    "    if getProximidades(str(value)) is not None:\n",
    "        proximidades = getProximidades(str(value))\n",
    "        for proximidade in proximidades.groups():\n",
    "            proximidade = proximidade.split(', ')\n",
    "            for x in proximidade:\n",
    "                proximidadesDict[x].append(j)"
   ]
  },
  {
   "cell_type": "code",
   "execution_count": null,
   "metadata": {},
   "outputs": [],
   "source": [
    "data_era_moradias = data_era_moradias.drop('Zona',axis = 1)\n",
    "\n",
    "for k, v in acessosDict.items():\n",
    "    data_era_moradias[k] = 0\n",
    "\n",
    "for k, v in acessosDict.items():\n",
    "    for j in v:\n",
    "        data_era_moradias.at[j, k] = 1\n",
    "        \n",
    "data_era_moradias = data_era_moradias.rename(columns={'Calçada': 'Zona Acessos - Calçada', \\\n",
    "                                    'Alcatrão': 'Zona Acessos - Alcatrão', \\\n",
    "                                    'Bons': 'Zona Acessos - Bons', \\\n",
    "                                    'Transportes Púb.': 'Zona Acessos - Transportes Púb.', \\\n",
    "                                    'Auto-Estrada': 'Zona Acessos - Auto-Estrada', \\\n",
    "                                    'Comboio': 'Zona Acessos - Comboio', \\\n",
    "                                    'Terra Batida': 'Zona Acessos - Terra Batida', \\\n",
    "                                    'Aeroporto': 'Zona Acessos - Aeroporto', \\\n",
    "                                    'Metro': 'Zona Acessos - Metro'})\n",
    "\n",
    "for k, v in centralidadesDict.items():\n",
    "    data_era_moradias[k] = 0\n",
    "\n",
    "for k, v in centralidadesDict.items():\n",
    "    for j in v:\n",
    "        data_era_moradias.at[j, k] = 1        \n",
    "\n",
    "data_era_moradias = data_era_moradias.rename(columns={'Distante Cidade': 'Zona Centralidade - Distante Cidade',\\\n",
    "                                   'Periferia Cidade': 'Zona Centralidade - Periferia Cidade', \\\n",
    "                                   'Centro da Cidade': 'Zona Centralidade - Centro da Cidade', \\\n",
    "                                   'Rural': 'Zona Centralidade - Rural'})\n",
    "\n",
    "for k, v in proximidadesDict.items():\n",
    "    data_era_moradias[k] = 0\n",
    "\n",
    "for k, v in proximidadesDict.items():\n",
    "    for j in v:\n",
    "        data_era_moradias.at[j, k] = 1\n",
    "\n",
    "data_era_moradias = data_era_moradias.rename(columns={'Centros Comerciais': 'Zona Proximidade - Centros Comerciais',\\\n",
    "                                   'Escolas': 'Zona Proximidade - Escolas',\\\n",
    "                                   'Ginásio': 'Zona Proximidade - Ginásio',\\\n",
    "                                   'Hospital': 'Zona Proximidade - Hospital',\\\n",
    "                                   'Jardins': 'Zona Proximidade - Jardins',\\\n",
    "                                   'Jardins Infância': 'Zona Proximidade - Jardins Infância',\\\n",
    "                                   'Padaria': 'Zona Proximidade - Padaria',\\\n",
    "                                   'Supermercado': 'Zona Proximidade - Supermercado',\\\n",
    "                                   'Bancos': 'Zona Proximidade - Bancos',\\\n",
    "                                   'Farmácia': 'Zona Proximidade - Farmácia',\\\n",
    "                                   'Praias': 'Zona Proximidade - Praias',\\\n",
    "                                   'Serviços Públicos': 'Zona Proximidade - Serviços Públicos',\\\n",
    "                                   'Bombeiros': 'Zona Proximidade - Bombeiros',\\\n",
    "                                   'Clínica': 'Zona Proximidade - Clínica',\\\n",
    "                                   'Polícia': 'Zona Proximidade - Polícia'})"
   ]
  },
  {
   "cell_type": "markdown",
   "metadata": {},
   "source": [
    "**Estruturar dados que ainda estão em bruto na feature 'Constituição'**"
   ]
  },
  {
   "cell_type": "code",
   "execution_count": null,
   "metadata": {
    "scrolled": true
   },
   "outputs": [],
   "source": [
    "#data_era_moradias['Constituição'].unique()"
   ]
  },
  {
   "cell_type": "code",
   "execution_count": null,
   "metadata": {},
   "outputs": [],
   "source": [
    "def getPisos(string):\n",
    "    return re.search(r\"Nº Pisos:\\s(.*?);\",string)\n",
    "\n",
    "def getFrentes(string):\n",
    "    return re.search(r\"Nº Frentes:\\s(.*?);\",string)\n",
    "\n",
    "def getCave(string):\n",
    "    if re.search(r\"Cave\",string) is not None:\n",
    "        return True\n",
    "    else: return False\n",
    "\n",
    "def getSotao(string):\n",
    "    if re.search(r\"Vão de Telhado / Sotão\",string) is not None:\n",
    "        return True\n",
    "    else: return False"
   ]
  },
  {
   "cell_type": "code",
   "execution_count": null,
   "metadata": {},
   "outputs": [],
   "source": [
    "constituicao = data_era_moradias['Constituição']\n",
    "\n",
    "pisosDict = defaultdict(list)\n",
    "frentesDict = defaultdict(list)\n",
    "caveList = []\n",
    "sotaoList = []\n",
    "\n",
    "\n",
    "j = 0\n",
    "\n",
    "for value in constituicao:\n",
    "    j = j+1\n",
    "    if getPisos(str(value)) is not None:\n",
    "        pisos = getPisos(str(value))\n",
    "        for piso in pisos.groups():\n",
    "            for x in piso:\n",
    "                pisosDict[x].append(j)\n",
    "                \n",
    "    if getFrentes(str(value)) is not None:\n",
    "        frentes = getFrentes(str(value))\n",
    "        for frente in frentes.groups():\n",
    "            for x in frente:\n",
    "                frentesDict[x].append(j)\n",
    "                \n",
    "    if getCave(str(value)) is True:\n",
    "        caveList.append(j)\n",
    "        \n",
    "    if getSotao(str(value)) is True:\n",
    "        sotaoList.append(j)"
   ]
  },
  {
   "cell_type": "code",
   "execution_count": null,
   "metadata": {},
   "outputs": [],
   "source": [
    "data_era_moradias = data_era_moradias.drop('Constituição',axis = 1)\n",
    "\n",
    "for k, v in pisosDict.items():\n",
    "    data_era_moradias[k] = 0\n",
    "\n",
    "for k, v in pisosDict.items():\n",
    "    for j in v:\n",
    "        data_era_moradias.at[j, k] = 1\n",
    "        \n",
    "data_era_moradias = data_era_moradias.rename(columns={'1':'Nº Pisos - 1', '2':'Nº Pisos - 2', \\\n",
    "                                                      '3':'Nº Pisos - 3', '4':'Nº Pisos - 4', \\\n",
    "                                                      '8':'Nº Pisos - 8'})\n",
    "\n",
    "for k, v in frentesDict.items():\n",
    "    data_era_moradias[k] = 0\n",
    "\n",
    "for k, v in frentesDict.items():\n",
    "    for j in v:\n",
    "        data_era_moradias.at[j, k] = 1\n",
    "        \n",
    "data_era_moradias = data_era_moradias.rename(columns={'1':'Nº Frentes - 1', '2':'Nº Frentes - 2', \\\n",
    "                                                      '3':'Nº Frentes - 3','4':'Nº Frentes - 4' })\n",
    "\n",
    "\n",
    "data_era_moradias['Cave'] = 0\n",
    "\n",
    "for k in caveList:\n",
    "    data_era_moradias.at[k, 'Cave'] = 1\n",
    "    \n",
    "data_era_moradias['Sotão'] = 0\n",
    "\n",
    "for k in sotaoList:\n",
    "    data_era_moradias.at[k, 'Sotão'] = 1"
   ]
  },
  {
   "cell_type": "markdown",
   "metadata": {},
   "source": [
    "**Dataset estruturado**"
   ]
  },
  {
   "cell_type": "code",
   "execution_count": null,
   "metadata": {},
   "outputs": [],
   "source": [
    "data_era_moradias.head()"
   ]
  }
 ],
 "metadata": {
  "file_extension": ".py",
  "kernelspec": {
   "display_name": "Python 3.7.6 64-bit",
   "language": "python",
   "name": "python37664bitc027470a8fb342f0ac482ac22a29b1f4"
  },
  "language_info": {
   "codemirror_mode": {
    "name": "ipython",
    "version": 3
   },
   "file_extension": ".py",
   "mimetype": "text/x-python",
   "name": "python",
   "nbconvert_exporter": "python",
   "pygments_lexer": "ipython3",
   "version": "3.7.6"
  },
  "mimetype": "text/x-python",
  "name": "python",
  "npconvert_exporter": "python",
  "pygments_lexer": "ipython3",
  "version": 3
 },
 "nbformat": 4,
 "nbformat_minor": 2
}
