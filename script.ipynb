{
 "nbformat": 4,
 "nbformat_minor": 2,
 "metadata": {
  "language_info": {
   "name": "python",
   "codemirror_mode": {
    "name": "ipython",
    "version": 3
   },
   "version": "3.7.6-final"
  },
  "orig_nbformat": 2,
  "file_extension": ".py",
  "mimetype": "text/x-python",
  "name": "python",
  "npconvert_exporter": "python",
  "pygments_lexer": "ipython3",
  "version": 3,
  "kernelspec": {
   "name": "python37664bitc027470a8fb342f0ac482ac22a29b1f4",
   "display_name": "Python 3.7.6 64-bit"
  }
 },
 "cells": [
  {
   "cell_type": "markdown",
   "metadata": {},
   "source": [
    "# Scrap My Prop\n",
    "\n",
    "### Laboratórios de Engenharia Informática\n",
    "\n",
    "#### \"Development of an IT solution for the extraction and automatic analysis of data and relevant information for the calculation of land and properties.\""
   ],
   "execution_count": null,
   "outputs": []
  },
  {
   "cell_type": "markdown",
   "metadata": {},
   "source": [
    "## Importar Bibliotecas Python"
   ],
   "execution_count": null,
   "outputs": []
  },
  {
   "cell_type": "code",
   "execution_count": null,
   "metadata": {},
   "outputs": [],
   "source": [
    "import pandas as pd\n",
    "import numpy as np\n",
    "import re"
   ]
  },
  {
   "cell_type": "markdown",
   "metadata": {},
   "source": [
    "# 'ERA'"
   ],
   "execution_count": null,
   "outputs": []
  },
  {
   "cell_type": "markdown",
   "metadata": {},
   "source": [
    "## Ler Dados do CSV"
   ],
   "execution_count": null,
   "outputs": []
  },
  {
   "cell_type": "code",
   "execution_count": null,
   "metadata": {},
   "outputs": [],
   "source": [
    "data_era = pd.read_csv('dados/dados_era_01_04.csv')\n",
    "pd.set_option('display.max_columns', None)\n",
    "data_era"
   ]
  },
  {
   "cell_type": "markdown",
   "metadata": {},
   "source": [
    "## Pré-processamento comum a todo o Dataset"
   ],
   "execution_count": null,
   "outputs": []
  },
  {
   "cell_type": "markdown",
   "metadata": {},
   "source": [
    "** Funções auxiliares **"
   ],
   "execution_count": null,
   "outputs": []
  },
  {
   "cell_type": "code",
   "execution_count": null,
   "metadata": {},
   "outputs": [],
   "source": [
    "def ajustPreco(string):\n",
    "    return re.sub(r\"(.*?)€\",r\"\\1\",string)"
   ]
  },
  {
   "cell_type": "markdown",
   "metadata": {},
   "source": [
    "** Colunas 'Distrito' e 'Concelho': Retirar colunas de forma total porque já era uma pré-condição do projeto, mas primeiro verificar se, de facto, todos os campos estão preenchidos com 'Braga'; **"
   ],
   "execution_count": null,
   "outputs": []
  },
  {
   "cell_type": "code",
   "execution_count": null,
   "metadata": {},
   "outputs": [],
   "source": [
    "print(\"Distritos existentes:\", data_era['Distrito'].unique())\n",
    "print(\"Concelhos existentes:\", data_era['Concelho'].unique())"
   ]
  },
  {
   "cell_type": "code",
   "execution_count": null,
   "metadata": {},
   "outputs": [],
   "source": [
    "if 'Distrito' in data_era.columns:\n",
    "    data_era = data_era.drop(['Distrito'], axis = 1) \n",
    "if 'Concelho' in data_era.columns:\n",
    "    data_era = data_era.drop(['Concelho'], axis = 1) "
   ]
  },
  {
   "cell_type": "markdown",
   "metadata": {},
   "source": [
    "** Colunas 'Nome' e 'Referência': Não são características dos imóveis mas sim identificadores, portanto não devem entrar nos cálculos (Drop); **"
   ],
   "execution_count": null,
   "outputs": []
  },
  {
   "cell_type": "code",
   "execution_count": null,
   "metadata": {},
   "outputs": [],
   "source": [
    "if 'Nome' in data_era.columns:\n",
    "    data_era = data_era.drop(['Nome'], axis = 1) \n",
    "if 'Referência' in data_era.columns:\n",
    "    data_era = data_era.drop(['Referência'], axis = 1) \n",
    "data_era.info()"
   ]
  },
  {
   "cell_type": "markdown",
   "metadata": {},
   "source": [
    "** Coluna 'Preço de Venda': Drop dos imóveis que estão 'Sob Consulta'; Retirar símbolo '€'; **"
   ],
   "execution_count": null,
   "outputs": []
  },
  {
   "cell_type": "code",
   "execution_count": null,
   "metadata": {},
   "outputs": [],
   "source": [
    "data_era = data_era.drop(data_era[(data_era['Preço de Venda'] == 'Sob Consulta')].index)\n",
    "data_era.index = np.arange(1, len(data_era) + 1)\n",
    "data_era['Preço de Venda'] = data_era['Preço de Venda'].apply(ajustPreco)\n",
    "data_era"
   ]
  },
  {
   "cell_type": "markdown",
   "metadata": {},
   "source": [
    "** Coluna 'Freguesia': Não podem existir valores nulos nesta coluna, senão estamos a perder o principal fator de diferenciação dos preços; **"
   ],
   "execution_count": null,
   "outputs": []
  },
  {
   "cell_type": "code",
   "execution_count": null,
   "metadata": {},
   "outputs": [],
   "source": [
    "data_era['Freguesia'].isnull().values.any()"
   ]
  },
  {
   "cell_type": "markdown",
   "metadata": {},
   "source": [
    "** Coluna 'Estado': 'N/D' deve passar a notação que seja interpretada pelas bibliotecas do Python ('NaN') **"
   ],
   "execution_count": null,
   "outputs": []
  },
  {
   "cell_type": "code",
   "execution_count": null,
   "metadata": {},
   "outputs": [],
   "source": [
    "data_era = data_era.replace('N/D',np.nan)\n",
    "data_era"
   ]
  },
  {
   "cell_type": "code",
   "execution_count": null,
   "metadata": {},
   "outputs": [],
   "source": [
    "data_era.info()"
   ]
  },
  {
   "cell_type": "markdown",
   "metadata": {},
   "source": [
    "!!! FALTA VER COMO TRATAR DAS FEATURES ZONA E ETC !!!"
   ],
   "execution_count": null,
   "outputs": []
  },
  {
   "cell_type": "markdown",
   "metadata": {},
   "source": [
    "## Pré-processamento diferenciado por tipologia"
   ],
   "execution_count": null,
   "outputs": []
  },
  {
   "cell_type": "markdown",
   "metadata": {},
   "source": [
    "** Listar todas as tipologias existentes **"
   ],
   "execution_count": null,
   "outputs": []
  },
  {
   "cell_type": "code",
   "execution_count": null,
   "metadata": {},
   "outputs": [],
   "source": [
    "data_era['Tipo de Imóvel'].unique()"
   ]
  },
  {
   "cell_type": "markdown",
   "metadata": {},
   "source": [
    "** Dividir os dados por tipologia **"
   ],
   "execution_count": null,
   "outputs": []
  },
  {
   "cell_type": "code",
   "execution_count": null,
   "metadata": {},
   "outputs": [],
   "source": [
    "data_era_moradias = data_era.loc[(data_era['Tipo de Imóvel'] == 'Moradia em Banda') | (data_era['Tipo de Imóvel'] == 'Moradia Geminada') | (data_era['Tipo de Imóvel'] == 'Moradia Isolada') | (data_era['Tipo de Imóvel'] == 'Moradia') | (data_era['Tipo de Imóvel'] == 'Andar Moradia') | (data_era['Tipo de Imóvel'] == 'Moradia Rústica')]\n",
    "data_era_moradias.index = np.arange(1, len(data_era_moradias) + 1)\n",
    "\n",
    "data_era_apartamentos = data_era.loc[(data_era['Tipo de Imóvel'] == 'Apartamento') | (data_era['Tipo de Imóvel'] == 'Duplex')]\n",
    "data_era_apartamentos.index = np.arange(1, len(data_era_apartamentos) + 1)\n",
    "\n",
    "data_era_terrenos = data_era.loc[(data_era['Tipo de Imóvel'] == 'Lote') | (data_era['Tipo de Imóvel'] == 'Terreno Para Construção') | (data_era['Tipo de Imóvel'] == 'Terreno com ruina') | (data_era['Tipo de Imóvel'] == 'Terreno Rústico') | (data_era['Tipo de Imóvel'] == 'Lote Industrial') | (data_era['Tipo de Imóvel'] == 'Terreno') | (data_era['Tipo de Imóvel'] == 'Loteamento') | (data_era['Tipo de Imóvel'] == 'Terreno Misto')]\n",
    "data_era_terrenos.index = np.arange(1, len(data_era_terrenos) + 1)\n",
    "\n",
    "data_era_lojas = data_era.loc[(data_era['Tipo de Imóvel'] == 'Loja')]\n",
    "data_era_lojas.index = np.arange(1, len(data_era_lojas) + 1)\n",
    "\n",
    "# faltam tipologias"
   ]
  },
  {
   "cell_type": "markdown",
   "metadata": {},
   "source": [
    "## Dados - Moradias"
   ],
   "execution_count": null,
   "outputs": []
  },
  {
   "cell_type": "code",
   "execution_count": null,
   "metadata": {},
   "outputs": [],
   "source": [
    "data_era_moradias.head()"
   ]
  },
  {
   "cell_type": "code",
   "execution_count": null,
   "metadata": {},
   "outputs": [],
   "source": [
    "data_era_moradias.info()"
   ]
  },
  {
   "cell_type": "markdown",
   "metadata": {},
   "source": [
    "** Dados em falta por linha **"
   ],
   "execution_count": null,
   "outputs": []
  },
  {
   "cell_type": "code",
   "execution_count": null,
   "metadata": {},
   "outputs": [],
   "source": [
    "percent_missing = (1 - data_era_moradias.apply(lambda x: x.count(), axis=1) / len(data_era_moradias.columns)) * 100\n",
    "missing_value_data_era_moradias_rows = pd.DataFrame({'percent_missing (%)': percent_missing})\n",
    "missing_value_data_era_moradias_rows.sort_values('percent_missing (%)', inplace=True, ascending=False)\n",
    "missing_value_data_era_moradias_rows"
   ]
  },
  {
   "cell_type": "markdown",
   "metadata": {},
   "source": [
    "** Dados em falta por coluna **"
   ],
   "execution_count": null,
   "outputs": []
  },
  {
   "cell_type": "code",
   "execution_count": null,
   "metadata": {},
   "outputs": [],
   "source": [
    "percent_missing = data_era_moradias.isnull().sum() * 100 / len(data_era_moradias)\n",
    "missing_value_data_era_moradias_columns = pd.DataFrame({'percent_missing (%)': percent_missing})\n",
    "missing_value_data_era_moradias_columns.sort_values('percent_missing (%)', inplace=True, ascending=False)\n",
    "missing_value_data_era_moradias_columns\n",
    ""
   ]
  }
 ]
}