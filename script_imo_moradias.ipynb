{
 "cells": [
  {
   "cell_type": "markdown",
   "metadata": {},
   "source": [
    "# Scrap My Prop\n",
    "\n",
    "### Laboratórios de Engenharia Informática\n",
    "\n",
    "**\"Development of an IT solution for the extraction and automatic analysis of data and relevant information for the calculation of land and properties.\"**"
   ]
  },
  {
   "cell_type": "markdown",
   "metadata": {},
   "source": [
    "## Importar Bibliotecas Python"
   ]
  },
  {
   "cell_type": "code",
   "execution_count": null,
   "metadata": {},
   "outputs": [],
   "source": [
    "import pandas as pd\n",
    "import numpy as np\n",
    "import re"
   ]
  },
  {
   "cell_type": "markdown",
   "metadata": {},
   "source": [
    "# 'Imovirtual'"
   ]
  },
  {
   "cell_type": "markdown",
   "metadata": {},
   "source": [
    "## Ler Dados do CSV"
   ]
  },
  {
   "cell_type": "code",
   "execution_count": null,
   "metadata": {},
   "outputs": [],
   "source": [
    "data_imo = pd.read_csv('dados/dados_imovirtual_08_04.csv', engine='python', encoding='utf8')\n",
    "pd.set_option('display.max_columns', 999)\n",
    "data_imo.head()"
   ]
  },
  {
   "cell_type": "markdown",
   "metadata": {},
   "source": [
    "## Pré-processamento comum a todo o Dataset"
   ]
  },
  {
   "cell_type": "markdown",
   "metadata": {},
   "source": [
    "**Funções auxiliares**"
   ]
  },
  {
   "cell_type": "code",
   "execution_count": null,
   "metadata": {},
   "outputs": [],
   "source": [
    "def ajustPreco(string):\n",
    "    res = str(string)\n",
    "    res = res.replace(\" \", \"\")\n",
    "    res = float(pd.to_numeric(res, errors='ignore'))\n",
    "    return res"
   ]
  },
  {
   "cell_type": "markdown",
   "metadata": {},
   "source": [
    "**Colunas 'Distrito' e 'Concelho': Retirar colunas de forma total porque já era uma pré-condição do projeto, mas primeiro verificar se, de facto, todos os campos estão preenchidos com 'Braga';**"
   ]
  },
  {
   "cell_type": "code",
   "execution_count": null,
   "metadata": {},
   "outputs": [],
   "source": [
    "print(\"Distritos existentes:\", data_imo['Distrito'].unique())\n",
    "print(\"Concelhos existentes:\", data_imo['Concelho'].unique())"
   ]
  },
  {
   "cell_type": "code",
   "execution_count": null,
   "metadata": {},
   "outputs": [],
   "source": [
    "if 'Distrito' in data_imo.columns:\n",
    "    data_imo = data_imo.drop(['Distrito'], axis = 1) \n",
    "if 'Concelho' in data_imo.columns:\n",
    "    data_imo = data_imo.drop(['Concelho'], axis = 1) "
   ]
  },
  {
   "cell_type": "markdown",
   "metadata": {},
   "source": [
    "**Colunas 'Nome' e 'Id': Não são características dos imóveis mas sim identificadores, portanto não devem entrar nos cálculos (Drop);**"
   ]
  },
  {
   "cell_type": "code",
   "execution_count": null,
   "metadata": {
    "scrolled": true
   },
   "outputs": [],
   "source": [
    "if 'Nome' in data_imo.columns:\n",
    "    data_imo = data_imo.drop(['Nome'], axis = 1) \n",
    "if 'Id' in data_imo.columns:\n",
    "    data_imo = data_imo.drop(['Id'], axis = 1) "
   ]
  },
  {
   "cell_type": "markdown",
   "metadata": {},
   "source": [
    "**Coluna 'Preço': Drop dos imóveis com valor 'nan'; Transformar em dado numérico;**"
   ]
  },
  {
   "cell_type": "code",
   "execution_count": null,
   "metadata": {},
   "outputs": [],
   "source": [
    "#data_imo['Preço'].unique()"
   ]
  },
  {
   "cell_type": "code",
   "execution_count": null,
   "metadata": {},
   "outputs": [],
   "source": [
    "data_imo['Preço'] = data_imo['Preço'].apply(ajustPreco)\n",
    "\n",
    "nan_prices = data_imo['Preço'].index[data_imo['Preço'].apply(np.isnan)]\n",
    "data_imo = data_imo.drop(nan_prices)\n",
    "data_imo.index = np.arange(1, len(data_imo) + 1)\n",
    "\n",
    "data_imo['Preço'] = data_imo['Preço'].apply(int)"
   ]
  },
  {
   "cell_type": "code",
   "execution_count": null,
   "metadata": {
    "scrolled": true
   },
   "outputs": [],
   "source": [
    "data_imo.info(verbose=True)"
   ]
  }
 ],
 "metadata": {
  "kernelspec": {
   "display_name": "Python 3.7.6 64-bit",
   "language": "python",
   "name": "python37664bitc027470a8fb342f0ac482ac22a29b1f4"
  },
  "language_info": {
   "codemirror_mode": {
    "name": "ipython",
    "version": 3
   },
   "file_extension": ".py",
   "mimetype": "text/x-python",
   "name": "python",
   "nbconvert_exporter": "python",
   "pygments_lexer": "ipython3",
   "version": "3.7.6"
  }
 },
 "nbformat": 4,
 "nbformat_minor": 4
}
