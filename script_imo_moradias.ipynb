{
 "cells": [
  {
   "cell_type": "markdown",
   "metadata": {},
   "source": [
    "# Scrap My Prop\n",
    "\n",
    "### Laboratórios de Engenharia Informática\n",
    "\n",
    "**\"Development of an IT solution for the extraction and automatic analysis of data and relevant information for the calculation of land and properties.\"**"
   ]
  },
  {
   "cell_type": "markdown",
   "metadata": {},
   "source": [
    "## Importar Bibliotecas Python"
   ]
  },
  {
   "cell_type": "code",
   "execution_count": null,
   "metadata": {},
   "outputs": [],
   "source": [
    "import pandas as pd\n",
    "import numpy as np\n",
    "import re\n",
    "import matplotlib.pyplot as plt\n",
    "import seaborn as sns\n",
    "from scipy import stats\n",
    "from IPython.core.debugger import set_trace"
   ]
  },
  {
   "cell_type": "markdown",
   "metadata": {},
   "source": [
    "# 'Imovirtual'"
   ]
  },
  {
   "cell_type": "markdown",
   "metadata": {},
   "source": [
    "## Ler Dados do CSV"
   ]
  },
  {
   "cell_type": "code",
   "execution_count": null,
   "metadata": {},
   "outputs": [],
   "source": [
    "data_imo = pd.read_csv('dados/dados_imovirtual_16_04.csv', engine='python', encoding='utf8')\n",
    "#pd.set_option('display.max_columns', None)\n",
    "pd.set_option('display.max_rows', 10)"
   ]
  },
  {
   "cell_type": "markdown",
   "metadata": {},
   "source": [
    "## Pré-processamento comum a todo o Dataset"
   ]
  },
  {
   "cell_type": "markdown",
   "metadata": {},
   "source": [
    "**Funções auxiliares**"
   ]
  },
  {
   "cell_type": "code",
   "execution_count": null,
   "metadata": {},
   "outputs": [],
   "source": [
    "def ajustPreco(string):\n",
    "    res = str(string)\n",
    "    res = res.replace(\" \", \"\")\n",
    "    res = float(pd.to_numeric(res, errors='ignore'))\n",
    "    return res"
   ]
  },
  {
   "cell_type": "markdown",
   "metadata": {},
   "source": [
    "**Colunas 'Distrito' e 'Concelho': Retirar colunas de forma total porque já era uma pré-condição do projeto, mas primeiro verificar se, de facto, todos os campos estão preenchidos com 'Braga';**"
   ]
  },
  {
   "cell_type": "code",
   "execution_count": null,
   "metadata": {},
   "outputs": [],
   "source": [
    "print(\"Distritos existentes:\", data_imo['Distrito'].unique())\n",
    "print(\"Concelhos existentes:\", data_imo['Concelho'].unique())"
   ]
  },
  {
   "cell_type": "code",
   "execution_count": null,
   "metadata": {},
   "outputs": [],
   "source": [
    "if 'Distrito' in data_imo.columns:\n",
    "    data_imo = data_imo.drop(['Distrito'], axis = 1) \n",
    "if 'Concelho' in data_imo.columns:\n",
    "    data_imo = data_imo.drop(['Concelho'], axis = 1) "
   ]
  },
  {
   "cell_type": "markdown",
   "metadata": {},
   "source": [
    "**Colunas 'Nome' e 'Id': Não são características dos imóveis mas sim identificadores, portanto não devem entrar nos cálculos (Drop);**"
   ]
  },
  {
   "cell_type": "code",
   "execution_count": null,
   "metadata": {
    "scrolled": true
   },
   "outputs": [],
   "source": [
    "if 'Nome' in data_imo.columns:\n",
    "    data_imo = data_imo.drop(['Nome'], axis = 1) \n",
    "if 'Id' in data_imo.columns:\n",
    "    data_imo = data_imo.drop(['Id'], axis = 1) "
   ]
  },
  {
   "cell_type": "markdown",
   "metadata": {},
   "source": [
    "**Dar join a algumas colunas que apesar de aparentarem ter nomes diferentes representam o mesmo**"
   ]
  },
  {
   "cell_type": "markdown",
   "metadata": {},
   "source": [
    "**Também pus os valores de box 1 carro e box 2 carros em garagem box, mas não as eliminei, bem como estacionamento, parqueamento 1 carro e parqueamento 2 carros/ hidromassagem e jacuzzi/ adaptado(a) a mobilidade reduzida**"
   ]
  },
  {
   "cell_type": "markdown",
   "metadata": {},
   "source": [
    "**Fazer o mesmo com piscina e piscina privada???**"
   ]
  },
  {
   "cell_type": "code",
   "execution_count": null,
   "metadata": {},
   "outputs": [],
   "source": [
    "#pd.set_option('display.max_columns', None)\n",
    "#data_imo.columns.to_numpy()"
   ]
  },
  {
   "cell_type": "code",
   "execution_count": null,
   "metadata": {},
   "outputs": [],
   "source": [
    "for index,val in data_imo['Vista de cidade.1'].items():\n",
    "    if (val==True):\n",
    "        data_imo['Vista de cidade'].iloc[index] = True\n",
    "for index,val in data_imo['Sótão'].items():\n",
    "    if (val==True):\n",
    "        data_imo['Sotão'].iloc[index] = True\n",
    "for index,val in data_imo['Vista de Serra'].items():\n",
    "    if (val==True):\n",
    "        data_imo['Vista de campo/serra'].iloc[index] = True\n",
    "for index,val in data_imo['Adaptada a mobilidade reduzida'].items():\n",
    "    if (val==True):\n",
    "        data_imo['Adaptado a mobilidade reduzida'].iloc[index] = True\n",
    "for index,val in data_imo['Box 1 carro'].items():\n",
    "    if (val==True):\n",
    "        data_imo['Garagem box'].iloc[index] = True\n",
    "for index,val in data_imo['Box 2 carros'].items():\n",
    "    if (val==True):\n",
    "        data_imo['Garagem box'].iloc[index] = True\n",
    "for index,val in data_imo['Parqueamento (1 carro)'].items():\n",
    "    if (val==True):\n",
    "        data_imo['Estacionamento'].iloc[index] = True\n",
    "for index,val in data_imo['Parqueamento (2 carros)'].items():\n",
    "    if (val==True):\n",
    "        data_imo['Estacionamento'].iloc[index] = True\n",
    "for index,val in data_imo['Hidromassagem'].items():\n",
    "    if (val==True):\n",
    "        data_imo['Hidromassagem/jacuzzi'].iloc[index] = True\n",
    "for index,val in data_imo['Jacuzzi'].items():\n",
    "    if (val==True):\n",
    "        data_imo['Hidromassagem/jacuzzi'].iloc[index] = True\n",
    "        \n",
    "data_imo.drop(['Vista de cidade.1', 'Sótão', 'Vista de Serra', 'Hidromassagem', 'Jacuzzi', 'Adaptada a mobilidade reduzida'], axis=1)\n"
   ]
  },
  {
   "cell_type": "code",
   "execution_count": null,
   "metadata": {},
   "outputs": [],
   "source": [
    "#data_imo.info(verbose=True, null_counts=True)"
   ]
  },
  {
   "cell_type": "markdown",
   "metadata": {},
   "source": [
    "**Normalizar os valores de todas as áreas**"
   ]
  },
  {
   "cell_type": "code",
   "execution_count": null,
   "metadata": {},
   "outputs": [],
   "source": [
    "for column in data_imo.columns:\n",
    "    if \"Área\" in column and \"Área administrativa\" not in column and \"Área florestal\" not in column:\n",
    "        for i in range(len(data_imo[column])):\n",
    "            if not pd.isnull(data_imo[column].iloc[i]):\n",
    "                data_imo[column].iloc[i]=str(data_imo[column].iloc[i])[0:-3]"
   ]
  },
  {
   "cell_type": "markdown",
   "metadata": {},
   "source": [
    "**Coluna 'Preço': Drop dos imóveis com valor 'nan'; Transformar em dado numérico;**"
   ]
  },
  {
   "cell_type": "code",
   "execution_count": null,
   "metadata": {},
   "outputs": [],
   "source": [
    "data_imo['Preço'] = data_imo['Preço'].apply(ajustPreco)\n",
    "\n",
    "nan_prices = data_imo['Preço'].index[data_imo['Preço'].apply(np.isnan)]\n",
    "data_imo = data_imo.drop(nan_prices)\n",
    "data_imo.index = np.arange(1, len(data_imo) + 1)\n",
    "\n",
    "data_imo['Preço'] = data_imo['Preço'].apply(int)"
   ]
  },
  {
   "cell_type": "code",
   "execution_count": null,
   "metadata": {
    "scrolled": true
   },
   "outputs": [],
   "source": [
    "data_imo.info(verbose=True)"
   ]
  },
  {
   "cell_type": "markdown",
   "metadata": {},
   "source": [
    "**Coluna 'Freguesia': Não podem existir valores nulos nesta coluna, senão estamos a perder o principal fator de diferenciação dos preços;**"
   ]
  },
  {
   "cell_type": "code",
   "execution_count": null,
   "metadata": {},
   "outputs": [],
   "source": [
    "data_imo['Freguesia'].isnull().values.any()"
   ]
  },
  {
   "cell_type": "markdown",
   "metadata": {},
   "source": [
    "**Ver os valores únicos de cada coluna para proceder ao processamento**"
   ]
  },
  {
   "cell_type": "code",
   "execution_count": null,
   "metadata": {},
   "outputs": [],
   "source": [
    "'''\n",
    "for col in data_imo.columns:\n",
    "    uniques=data_imo[col].unique()\n",
    "    print(\"Valores únicos para a coluna \", col, \": \", uniques)\n",
    "'''"
   ]
  },
  {
   "cell_type": "markdown",
   "metadata": {},
   "source": [
    "**Dividir os dados para a tipologia moradias**"
   ]
  },
  {
   "cell_type": "code",
   "execution_count": null,
   "metadata": {},
   "outputs": [],
   "source": [
    "data_imo_moradias = data_imo.loc[(data_imo['Tipo de imóvel'] == 'Moradia')]\n",
    "data_imo_moradias.index = np.arange(1, len(data_imo_moradias) + 1)"
   ]
  },
  {
   "cell_type": "markdown",
   "metadata": {},
   "source": [
    "# Dados - Moradias"
   ]
  },
  {
   "cell_type": "code",
   "execution_count": null,
   "metadata": {},
   "outputs": [],
   "source": [
    "data_imo_moradias.head()"
   ]
  },
  {
   "cell_type": "code",
   "execution_count": null,
   "metadata": {},
   "outputs": [],
   "source": [
    "data_imo_moradias.info(verbose=True, null_counts=True)"
   ]
  },
  {
   "cell_type": "markdown",
   "metadata": {},
   "source": [
    "## Análise exploratória de dados"
   ]
  },
  {
   "cell_type": "markdown",
   "metadata": {},
   "source": [
    "*Distribuição da feature 'Preço'*"
   ]
  },
  {
   "cell_type": "code",
   "execution_count": null,
   "metadata": {},
   "outputs": [],
   "source": [
    "fig = plt.figure(figsize = (20,5))\n",
    "sns.set_style('darkgrid')\n",
    "data_imo_moradias['Preço'].hist(bins=30)\n",
    "plt.xlabel('Preço')"
   ]
  },
  {
   "cell_type": "code",
   "execution_count": null,
   "metadata": {},
   "outputs": [],
   "source": [
    "fig = plt.figure(figsize = (10,3))\n",
    "sns.boxplot(x=data_imo_moradias['Preço'])"
   ]
  },
  {
   "cell_type": "markdown",
   "metadata": {},
   "source": [
    "*Relação entre o Preço e outras variáveis*"
   ]
  },
  {
   "cell_type": "code",
   "execution_count": null,
   "metadata": {},
   "outputs": [],
   "source": [
    "fig = plt.figure(figsize = (30,15))\n",
    "\n",
    "ax1 = fig.add_subplot(2,3,1)\n",
    "ax1.scatter(data_imo_moradias['Área útil m/2'], data_imo_moradias['Preço'])\n",
    "ax1.set_xlabel('Área útil')\n",
    "ax1.set_ylabel('Preço')"
   ]
  },
  {
   "cell_type": "markdown",
   "metadata": {},
   "source": [
    "*Relacionamento do 'Preço' com outras features categóricas importantes*"
   ]
  },
  {
   "cell_type": "code",
   "execution_count": null,
   "metadata": {},
   "outputs": [],
   "source": [
    "cat_data = data_imo_moradias[['Freguesia']]"
   ]
  },
  {
   "cell_type": "code",
   "execution_count": null,
   "metadata": {},
   "outputs": [],
   "source": [
    "for cat in cat_data.dtypes[:10].index.values:\n",
    "    plt.figure(figsize=(20, 8))\n",
    "    plt.xticks(rotation=90)\n",
    "    sns.boxplot(x=cat, y='Preço', data=data_imo_moradias) \n",
    "    sns.swarmplot(x=cat, y='Preço', data=data_imo_moradias)\n",
    "    plt.show()"
   ]
  },
  {
   "cell_type": "markdown",
   "metadata": {},
   "source": [
    "**Remoção de outliers (Quantos eliminar???)**"
   ]
  },
  {
   "cell_type": "code",
   "execution_count": null,
   "metadata": {},
   "outputs": [],
   "source": [
    "outliers = data_imo_moradias.loc[data_imo_moradias['Preço'] > 1000000].index\n",
    "data_imo_moradias = data_imo_moradias.drop(outliers)\n",
    "data_imo_moradias.index = np.arange(1, len(data_imo_moradias) + 1)\n",
    "data_imo_moradias.shape"
   ]
  },
  {
   "cell_type": "code",
   "execution_count": null,
   "metadata": {},
   "outputs": [],
   "source": [
    "fig = plt.figure(figsize = (20,5))\n",
    "sns.set_style('darkgrid')\n",
    "data_imo_moradias['Preço'].hist(bins=30)\n",
    "plt.xlabel('Preço')"
   ]
  },
  {
   "cell_type": "markdown",
   "metadata": {},
   "source": [
    "**Dados em falta por coluna**"
   ]
  },
  {
   "cell_type": "code",
   "execution_count": null,
   "metadata": {},
   "outputs": [],
   "source": [
    "pd.set_option('display.max_rows', None)\n",
    "percent_missing = data_imo_moradias.isnull().sum() * 100 / len(data_imo_moradias)\n",
    "missing_value_data_imo_moradias_columns = pd.DataFrame({'percent_missing (%)': percent_missing})\n",
    "sort_data = missing_value_data_imo_moradias_columns.copy()\n",
    "sort_data.sort_values('percent_missing (%)', inplace=True, ascending=False)\n",
    "sort_data"
   ]
  },
  {
   "cell_type": "markdown",
   "metadata": {},
   "source": [
    "**Remover colunas que tenham mais de 30% (?) de missing values**"
   ]
  },
  {
   "cell_type": "code",
   "execution_count": null,
   "metadata": {},
   "outputs": [],
   "source": [
    "a_manter = list(missing_value_data_imo_moradias_columns.index[missing_value_data_imo_moradias_columns['percent_missing (%)'] < 30])\n",
    "data_imo_moradias = data_imo_moradias[a_manter]\n",
    "data_imo_moradias"
   ]
  },
  {
   "cell_type": "code",
   "execution_count": null,
   "metadata": {},
   "outputs": [],
   "source": []
  }
 ],
 "metadata": {
  "kernelspec": {
   "display_name": "Python 3",
   "language": "python",
   "name": "python3"
  },
  "language_info": {
   "codemirror_mode": {
    "name": "ipython",
    "version": 3
   },
   "file_extension": ".py",
   "mimetype": "text/x-python",
   "name": "python",
   "nbconvert_exporter": "python",
   "pygments_lexer": "ipython3",
   "version": "3.7.7"
  }
 },
 "nbformat": 4,
 "nbformat_minor": 4
}
