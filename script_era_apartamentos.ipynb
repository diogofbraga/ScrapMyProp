{
 "cells": [
  {
   "cell_type": "code",
   "execution_count": null,
   "metadata": {},
   "outputs": [],
   "source": [
    "data_era_apartamentos = data_era.loc[(data_era['Tipo de Imóvel'] == 'Apartamento') | (data_era['Tipo de Imóvel'] == 'Duplex')]\n",
    "data_era_apartamentos.index = np.arange(1, len(data_era_apartamentos) + 1)\n",
    "\n",
    "data_era_terrenos = data_era.loc[(data_era['Tipo de Imóvel'] == 'Lote') | (data_era['Tipo de Imóvel'] == 'Terreno Para Construção') | (data_era['Tipo de Imóvel'] == 'Terreno com ruina') | (data_era['Tipo de Imóvel'] == 'Terreno Rústico') | (data_era['Tipo de Imóvel'] == 'Lote Industrial') | (data_era['Tipo de Imóvel'] == 'Terreno') | (data_era['Tipo de Imóvel'] == 'Loteamento') | (data_era['Tipo de Imóvel'] == 'Terreno Misto')]\n",
    "data_era_terrenos.index = np.arange(1, len(data_era_terrenos) + 1)\n",
    "\n",
    "data_era_lojas = data_era.loc[(data_era['Tipo de Imóvel'] == 'Loja')]\n",
    "data_era_lojas.index = np.arange(1, len(data_era_lojas) + 1)\n",
    "\n",
    "# faltam tipologias"
   ]
  }
 ],
 "metadata": {
  "kernelspec": {
   "display_name": "Python 3.7.6 64-bit ('ClinicalExaminations': pipenv)",
   "language": "python",
   "name": "python37664bitclinicalexaminationspipenvad0378402ce04cb7908ba7c074f33903"
  },
  "language_info": {
   "codemirror_mode": {
    "name": "ipython",
    "version": 3
   },
   "file_extension": ".py",
   "mimetype": "text/x-python",
   "name": "python",
   "nbconvert_exporter": "python",
   "pygments_lexer": "ipython3",
   "version": "3.7.6"
  }
 },
 "nbformat": 4,
 "nbformat_minor": 4
}
