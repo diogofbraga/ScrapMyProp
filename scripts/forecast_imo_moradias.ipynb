{
 "cells": [
  {
   "cell_type": "markdown",
   "metadata": {},
   "source": [
    "# Scrap My Prop\n",
    "\n",
    "### Laboratórios de Engenharia Informática\n",
    "\n",
    "**\"Development of an IT solution for the extraction and automatic analysis of data and relevant information for the calculation of land and properties.\"**"
   ]
  },
  {
   "cell_type": "code",
   "execution_count": null,
   "metadata": {},
   "outputs": [],
   "source": [
    "import pandas as pd\n",
    "import numpy as np\n",
    "import re\n",
    "import matplotlib.pyplot as plt\n",
    "import seaborn as sns\n",
    "from scipy import stats\n",
    "from scipy.stats import norm, skew\n",
    "from IPython.core.debugger import set_trace\n",
    "import geopy.distance\n",
    "import os.path\n",
    "from sklearn import metrics"
   ]
  },
  {
   "cell_type": "markdown",
   "metadata": {},
   "source": [
    "### Id"
   ]
  },
  {
   "cell_type": "code",
   "execution_count": null,
   "metadata": {},
   "outputs": [],
   "source": [
    "def preparationData(data_imo):\n",
    "    data_imo = data_imo[['Id','Preço']]\n",
    "    \n",
    "    data_imo = data_imo.dropna(subset=['Id'])\n",
    "    data_imo.index = np.arange(1, len(data_imo) + 1)\n",
    "    \n",
    "    data_imo['Id'] = data_imo['Id'].astype(int)\n",
    "    \n",
    "    return data_imo"
   ]
  },
  {
   "cell_type": "markdown",
   "metadata": {},
   "source": [
    "### Preço"
   ]
  },
  {
   "cell_type": "code",
   "execution_count": null,
   "metadata": {},
   "outputs": [],
   "source": [
    "def toNumeric(string):\n",
    "    res = str(string)\n",
    "    res = res.replace(\" \", \"\")\n",
    "    res = res.replace(\",\", \".\")\n",
    "    res = float(pd.to_numeric(res, errors='ignore')) # tem que ser float porque esse tipo consegue interpretar o np.nan\n",
    "    return res"
   ]
  },
  {
   "cell_type": "code",
   "execution_count": null,
   "metadata": {},
   "outputs": [],
   "source": [
    "def preparationPreco(data_imo):\n",
    "\n",
    "    data_imo['Preço'] = data_imo['Preço'].apply(toNumeric)\n",
    "\n",
    "    nan_prices = data_imo['Preço'].index[data_imo['Preço'].apply(np.isnan)]\n",
    "    data_imo = data_imo.drop(nan_prices)\n",
    "    data_imo.index = np.arange(1, len(data_imo) + 1)\n",
    "\n",
    "    data_imo['Preço'] = data_imo['Preço'].apply(int)\n",
    "    \n",
    "    return data_imo"
   ]
  },
  {
   "cell_type": "markdown",
   "metadata": {},
   "source": [
    "### Imovel"
   ]
  },
  {
   "cell_type": "code",
   "execution_count": null,
   "metadata": {},
   "outputs": [],
   "source": [
    "class Imovel():\n",
    "    def getData(self):\n",
    "        return self.datas\n",
    "\n",
    "    def getPreco(self):\n",
    "        return self.precos\n",
    "    \n",
    "    def __init__(self):\n",
    "        self.datas = []\n",
    "        self.precos = []"
   ]
  },
  {
   "cell_type": "markdown",
   "metadata": {},
   "source": [
    "### Get and Prepare Data"
   ]
  },
  {
   "cell_type": "code",
   "execution_count": null,
   "metadata": {
    "scrolled": true
   },
   "outputs": [],
   "source": [
    "imoveis = {}\n",
    "\n",
    "for mes in range(4,7):\n",
    "    if mes > 0 and mes < 10:\n",
    "        mes = str(mes).zfill(2)\n",
    "    print(\"------ Mês:\", mes)\n",
    "    for dia in range(1,31):\n",
    "        if dia > 0 and dia < 10:\n",
    "            dia = str(dia).zfill(2)\n",
    "        print(\"--- Dia:\", dia)\n",
    "        if os.path.isfile(f'../dados/dados_imovirtual_{dia}_{mes}.csv'):\n",
    "            data_imo = pd.read_csv(f'../dados/dados_imovirtual_{dia}_{mes}.csv', engine='python', encoding='utf8')\n",
    "            data_imo = preparationData(data_imo)\n",
    "            data_imo = preparationPreco(data_imo)\n",
    "            print(data_imo.shape)\n",
    "            for index, row in data_imo.iterrows():\n",
    "                #imovel = Imovel(f'{dia}/{mes}', row['Preço'])\n",
    "                if row['Id'] not in imoveis:\n",
    "                    imoveis[row['Id']] = Imovel()\n",
    "                imoveis[row['Id']].datas.append(f'{dia}/{mes}')\n",
    "                imoveis[row['Id']].precos.append(row['Preço'])\n",
    "                    "
   ]
  },
  {
   "cell_type": "code",
   "execution_count": null,
   "metadata": {},
   "outputs": [],
   "source": [
    "#imoveis.keys()"
   ]
  },
  {
   "cell_type": "code",
   "execution_count": null,
   "metadata": {
    "scrolled": true
   },
   "outputs": [],
   "source": [
    "#imoveis.get(15355922).precos"
   ]
  },
  {
   "cell_type": "code",
   "execution_count": null,
   "metadata": {},
   "outputs": [],
   "source": [
    "for k, v in imoveis.items():\n",
    "    dif = v.precos[-1]-v.precos[0]\n",
    "    if abs(dif) > 10000:\n",
    "        print(k, dif, set(v.precos))"
   ]
  },
  {
   "cell_type": "code",
   "execution_count": null,
   "metadata": {},
   "outputs": [],
   "source": [
    "plt.figure(figsize=(20, 8))\n",
    "plt.xticks(rotation=90)\n",
    "plt.plot(imoveis.get(15386584).datas, imoveis.get(15386584).precos, 'go--', linewidth=2, markersize=12)\n",
    "plt.show()"
   ]
  }
 ],
 "metadata": {
  "kernelspec": {
   "display_name": "Python 3.7.6 64-bit",
   "language": "python",
   "name": "python37664bitc027470a8fb342f0ac482ac22a29b1f4"
  },
  "language_info": {
   "codemirror_mode": {
    "name": "ipython",
    "version": 3
   },
   "file_extension": ".py",
   "mimetype": "text/x-python",
   "name": "python",
   "nbconvert_exporter": "python",
   "pygments_lexer": "ipython3",
   "version": "3.7.7"
  }
 },
 "nbformat": 4,
 "nbformat_minor": 4
}
