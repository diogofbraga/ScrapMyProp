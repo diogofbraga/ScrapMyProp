{
 "cells": [
  {
   "cell_type": "markdown",
   "metadata": {},
   "source": [
    "# Scrap My Prop\n",
    "\n",
    "### Laboratórios de Engenharia Informática\n",
    "\n",
    "**\"Development of an IT solution for the extraction and automatic analysis of data and relevant information for the calculation of land and properties.\"**"
   ]
  },
  {
   "cell_type": "markdown",
   "metadata": {},
   "source": [
    "## Importar Bibliotecas Python"
   ]
  },
  {
   "cell_type": "code",
   "execution_count": null,
   "metadata": {},
   "outputs": [],
   "source": [
    "import pandas as pd\n",
    "import numpy as np\n",
    "import re\n",
    "import matplotlib.pyplot as plt\n",
    "import seaborn as sns\n",
    "from scipy import stats\n",
    "from IPython.core.debugger import set_trace\n",
    "import geopy.distance\n",
    "import os.path"
   ]
  },
  {
   "cell_type": "markdown",
   "metadata": {},
   "source": [
    "# 'Imovirtual'"
   ]
  },
  {
   "cell_type": "markdown",
   "metadata": {},
   "source": [
    "## Ler Dados do CSV"
   ]
  },
  {
   "cell_type": "markdown",
   "metadata": {},
   "source": [
    "**Junção dos datasets através do 'id'**"
   ]
  },
  {
   "cell_type": "code",
   "execution_count": null,
   "metadata": {},
   "outputs": [],
   "source": [
    "k = True\n",
    "\n",
    "for mes in range(4,6):\n",
    "    if mes > 0 and mes < 10:\n",
    "        mes = str(mes).zfill(2)\n",
    "    print(\"------ Mês:\", mes)\n",
    "    for dia in range(1,31):\n",
    "        if dia > 0 and dia < 10:\n",
    "            dia = str(dia).zfill(2)\n",
    "        print(\"--- Dia:\", dia)\n",
    "        if os.path.isfile(f'../dados/dados_imovirtual_{dia}_{mes}.csv'):\n",
    "            if k:\n",
    "                data_imo = pd.read_csv(f'../dados/dados_imovirtual_{dia}_{mes}.csv', engine='python', encoding='utf8')\n",
    "                print(data_imo.shape)\n",
    "                k = False\n",
    "            else:\n",
    "                csv = pd.read_csv(f'../dados/dados_imovirtual_{dia}_{mes}.csv', engine='python', encoding='utf8')\n",
    "                data_imo = data_imo.append(csv,sort=False)\n",
    "                data_imo = data_imo.drop_duplicates(subset='Id', keep=\"last\")\n",
    "                data_imo.index = np.arange(1, len(data_imo) + 1)\n",
    "                print(data_imo.shape)"
   ]
  },
  {
   "cell_type": "code",
   "execution_count": null,
   "metadata": {},
   "outputs": [],
   "source": [
    "#data_imo = pd.read_csv('../dados/dados_imovirtual_08_05.csv', engine='python', encoding='utf8')\n",
    "pd.set_option('display.max_columns', None)\n",
    "pd.set_option('display.max_rows', 10)\n",
    "data_imo.head()"
   ]
  },
  {
   "cell_type": "markdown",
   "metadata": {},
   "source": [
    "## Pré-processamento comum a todo o Dataset"
   ]
  },
  {
   "cell_type": "markdown",
   "metadata": {},
   "source": [
    "**Funções auxiliares**"
   ]
  },
  {
   "cell_type": "code",
   "execution_count": null,
   "metadata": {},
   "outputs": [],
   "source": [
    "def toNumeric(string):\n",
    "    res = str(string)\n",
    "    res = res.replace(\" \", \"\")\n",
    "    res = res.replace(\",\", \".\")\n",
    "    res = float(pd.to_numeric(res, errors='ignore')) # tem que ser float porque esse tipo consegue interpretar o np.nan\n",
    "    return res"
   ]
  },
  {
   "cell_type": "markdown",
   "metadata": {},
   "source": [
    "**Colunas 'Distrito' e 'Concelho': Retirar colunas de forma total porque já era uma pré-condição do projeto, mas primeiro verificar se, de facto, todos os campos estão preenchidos com 'Braga';**"
   ]
  },
  {
   "cell_type": "code",
   "execution_count": null,
   "metadata": {},
   "outputs": [],
   "source": [
    "print(\"Distritos existentes:\", data_imo['Distrito'].unique())\n",
    "print(\"Concelhos existentes:\", data_imo['Concelho'].unique())"
   ]
  },
  {
   "cell_type": "code",
   "execution_count": null,
   "metadata": {},
   "outputs": [],
   "source": [
    "if 'Distrito' in data_imo.columns:\n",
    "    data_imo = data_imo.drop(['Distrito'], axis = 1) \n",
    "if 'Concelho' in data_imo.columns:\n",
    "    data_imo = data_imo.drop(['Concelho'], axis = 1) "
   ]
  },
  {
   "cell_type": "markdown",
   "metadata": {},
   "source": [
    "**Coluna 'Nome': Não é característica dos imóveis mas sim identificador, portanto não deve entrar nos cálculos (Drop);**"
   ]
  },
  {
   "cell_type": "code",
   "execution_count": null,
   "metadata": {
    "scrolled": true
   },
   "outputs": [],
   "source": [
    "if 'Nome' in data_imo.columns:\n",
    "    data_imo = data_imo.drop(['Nome'], axis = 1) "
   ]
  },
  {
   "cell_type": "markdown",
   "metadata": {},
   "source": [
    "**Coluna 'Id': Drop linhas sem 'Id'; float -> int;**"
   ]
  },
  {
   "cell_type": "code",
   "execution_count": null,
   "metadata": {},
   "outputs": [],
   "source": [
    "data_imo = data_imo.dropna(subset=['Id'])\n",
    "data_imo.index = np.arange(1, len(data_imo) + 1)"
   ]
  },
  {
   "cell_type": "code",
   "execution_count": null,
   "metadata": {},
   "outputs": [],
   "source": [
    "data_imo['Id'] = data_imo['Id'].astype(int)"
   ]
  },
  {
   "cell_type": "markdown",
   "metadata": {},
   "source": [
    "**Dar join a colunas que, apesar de aparentarem ter nomes diferentes, representam o mesmo**"
   ]
  },
  {
   "cell_type": "markdown",
   "metadata": {},
   "source": [
    "**Exemplo: Valores de 'Box 1 carro' e 'Box 2 carros' -> 'Garagem box'; Valores de 'Parqueamento (1 carro)' e 'Parqueamento (2 carros)' -> 'Estacionamento'; Valores de 'Hidromassagem' e 'Jacuzzi' -> 'Hidromassagem/jacuzzi'; ...**"
   ]
  },
  {
   "cell_type": "markdown",
   "metadata": {},
   "source": [
    "**Fazer o mesmo com piscina e piscina privada???**"
   ]
  },
  {
   "cell_type": "code",
   "execution_count": null,
   "metadata": {},
   "outputs": [],
   "source": [
    "#pd.set_option('display.max_columns', None)\n",
    "#data_imo.columns.to_numpy()"
   ]
  },
  {
   "cell_type": "code",
   "execution_count": null,
   "metadata": {},
   "outputs": [],
   "source": [
    "for index,val in data_imo['Vista de cidade.1'].items():\n",
    "    if (val==True):\n",
    "        data_imo['Vista de cidade'].iloc[index] = True\n",
    "for index,val in data_imo['Sótão'].items():\n",
    "    if (val==True):\n",
    "        data_imo['Sotão'].iloc[index] = True\n",
    "for index,val in data_imo['Vista de Serra'].items():\n",
    "    if (val==True):\n",
    "        data_imo['Vista de campo/serra'].iloc[index] = True\n",
    "for index,val in data_imo['Adaptada a mobilidade reduzida'].items():\n",
    "    if (val==True):\n",
    "        data_imo['Adaptado a mobilidade reduzida'].iloc[index] = True\n",
    "for index,val in data_imo['Box 1 carro'].items():\n",
    "    if (val==True):\n",
    "        data_imo['Garagem box'].iloc[index] = True\n",
    "for index,val in data_imo['Box 2 carros'].items():\n",
    "    if (val==True):\n",
    "        data_imo['Garagem box'].iloc[index] = True\n",
    "for index,val in data_imo['Parqueamento (1 carro)'].items():\n",
    "    if (val==True):\n",
    "        data_imo['Estacionamento'].iloc[index] = True\n",
    "for index,val in data_imo['Parqueamento (2 carros)'].items():\n",
    "    if (val==True):\n",
    "        data_imo['Estacionamento'].iloc[index] = True\n",
    "for index,val in data_imo['Hidromassagem'].items():\n",
    "    if (val==True):\n",
    "        data_imo['Hidromassagem/jacuzzi'].iloc[index] = True\n",
    "for index,val in data_imo['Jacuzzi'].items():\n",
    "    if (val==True):\n",
    "        data_imo['Hidromassagem/jacuzzi'].iloc[index] = True\n",
    "        \n",
    "data_imo=data_imo.drop(['Vista de cidade.1', 'Sótão', 'Vista de Serra', 'Hidromassagem', 'Jacuzzi', 'Adaptada a mobilidade reduzida'], axis=1)\n"
   ]
  },
  {
   "cell_type": "code",
   "execution_count": null,
   "metadata": {},
   "outputs": [],
   "source": [
    "#data_imo.info(verbose=True, null_counts=True)"
   ]
  },
  {
   "cell_type": "markdown",
   "metadata": {},
   "source": [
    "**Normalizar os valores de todas as áreas; Transformar em dado numérico;**"
   ]
  },
  {
   "cell_type": "code",
   "execution_count": null,
   "metadata": {},
   "outputs": [],
   "source": [
    "for column in data_imo.columns:\n",
    "    if \"Área\" in column and \"Área administrativa\" not in column and \"Área florestal\" not in column:\n",
    "        for i in range(len(data_imo[column])):\n",
    "            if not pd.isnull(data_imo[column].iloc[i]):\n",
    "                #print(data_imo[column].iloc[i])\n",
    "                data_imo[column].iloc[i]=toNumeric(str(data_imo[column].iloc[i])[0:-3])\n",
    "                #print(data_imo[column].iloc[i])\n",
    "                #print(type(data_imo[column].iloc[i]))"
   ]
  },
  {
   "cell_type": "markdown",
   "metadata": {},
   "source": [
    "**Coluna 'Preço' e 'Preço m/2': Drop dos imóveis com valor 'nan'; Transformar em dado numérico;**"
   ]
  },
  {
   "cell_type": "code",
   "execution_count": null,
   "metadata": {},
   "outputs": [],
   "source": [
    "data_imo['Preço'] = data_imo['Preço'].apply(toNumeric)\n",
    "\n",
    "nan_prices = data_imo['Preço'].index[data_imo['Preço'].apply(np.isnan)]\n",
    "data_imo = data_imo.drop(nan_prices)\n",
    "data_imo.index = np.arange(1, len(data_imo) + 1)\n",
    "\n",
    "data_imo['Preço'] = data_imo['Preço'].apply(int)\n",
    "\n",
    "# ------\n",
    "\n",
    "data_imo['Preço m/2'] = data_imo['Preço m/2'].apply(toNumeric)\n",
    "\n",
    "nan_prices = data_imo['Preço m/2'].index[data_imo['Preço m/2'].apply(np.isnan)]\n",
    "data_imo = data_imo.drop(nan_prices)\n",
    "data_imo.index = np.arange(1, len(data_imo) + 1)\n",
    "\n",
    "data_imo['Preço m/2'] = data_imo['Preço m/2'].apply(int)"
   ]
  },
  {
   "cell_type": "code",
   "execution_count": null,
   "metadata": {
    "scrolled": true
   },
   "outputs": [],
   "source": [
    "data_imo.info(verbose=True)"
   ]
  },
  {
   "cell_type": "markdown",
   "metadata": {},
   "source": [
    "# Dados - Armazéns"
   ]
  },
  {
   "cell_type": "markdown",
   "metadata": {},
   "source": [
    "**Ver os valores únicos de cada coluna para proceder ao processamento**"
   ]
  },
  {
   "cell_type": "code",
   "execution_count": null,
   "metadata": {},
   "outputs": [],
   "source": [
    "for col in data_imo.columns:\n",
    "    uniques=data_imo[col].unique()\n",
    "    print(\"Valores únicos para a coluna \", col, \": \", uniques)"
   ]
  },
  {
   "cell_type": "markdown",
   "metadata": {},
   "source": [
    "**Dividir os dados por tipo de imóvel**"
   ]
  },
  {
   "cell_type": "code",
   "execution_count": null,
   "metadata": {},
   "outputs": [],
   "source": [
    "data_imo_armazéns = data_imo.loc[(data_imo['Tipo de imóvel'] == 'Armazém')]\n",
    "data_imo_armazéns.index = np.arange(1, len(data_imo_armazéns) + 1)"
   ]
  },
  {
   "cell_type": "code",
   "execution_count": null,
   "metadata": {},
   "outputs": [],
   "source": [
    "data_imo_armazéns.head()"
   ]
  },
  {
   "cell_type": "code",
   "execution_count": null,
   "metadata": {},
   "outputs": [],
   "source": [
    "#data_imo_armazéns.info(verbose=True, null_counts=True)"
   ]
  },
  {
   "cell_type": "markdown",
   "metadata": {},
   "source": [
    "## Análise exploratória de dados"
   ]
  },
  {
   "cell_type": "markdown",
   "metadata": {},
   "source": [
    "*Distribuição da feature 'Preço'*"
   ]
  },
  {
   "cell_type": "code",
   "execution_count": null,
   "metadata": {},
   "outputs": [],
   "source": [
    "fig = plt.figure(figsize = (20,5))\n",
    "sns.set_style('darkgrid')\n",
    "data_imo_armazéns['Preço'].hist(bins=30)\n",
    "plt.xlabel('Preço')"
   ]
  },
  {
   "cell_type": "code",
   "execution_count": null,
   "metadata": {},
   "outputs": [],
   "source": [
    "fig = plt.figure(figsize = (10,3))\n",
    "sns.boxplot(x=data_imo_armazéns['Preço'])"
   ]
  },
  {
   "cell_type": "markdown",
   "metadata": {},
   "source": [
    "*Relação entre o Preço e outras variáveis*"
   ]
  },
  {
   "cell_type": "code",
   "execution_count": null,
   "metadata": {},
   "outputs": [],
   "source": [
    "fig = plt.figure(figsize = (30,15))\n",
    "\n",
    "ax1 = fig.add_subplot(2,3,1)\n",
    "ax1.scatter(data_imo_armazéns['Área (m/2)'], data_imo_armazéns['Preço'])\n",
    "ax1.set_xlabel('Área')\n",
    "ax1.set_ylabel('Preço')"
   ]
  },
  {
   "cell_type": "markdown",
   "metadata": {},
   "source": [
    "*Relacionamento do 'Preço' com outras features categóricas importantes*"
   ]
  },
  {
   "cell_type": "code",
   "execution_count": null,
   "metadata": {},
   "outputs": [],
   "source": [
    "cat_data = data_imo_armazéns[['Freguesia']]"
   ]
  },
  {
   "cell_type": "code",
   "execution_count": null,
   "metadata": {},
   "outputs": [],
   "source": [
    "for cat in cat_data.dtypes[:10].index.values:\n",
    "    plt.figure(figsize=(20, 8))\n",
    "    plt.xticks(rotation=90)\n",
    "    sns.boxplot(x=cat, y='Preço', data=data_imo_armazéns) \n",
    "    sns.swarmplot(x=cat, y='Preço', data=data_imo_armazéns)\n",
    "    plt.show()"
   ]
  },
  {
   "cell_type": "markdown",
   "metadata": {},
   "source": [
    "**Remoção de Outliers (Quantos eliminar?)**"
   ]
  },
  {
   "cell_type": "markdown",
   "metadata": {},
   "source": [
    "*Através da visualização dos gráficos*"
   ]
  },
  {
   "cell_type": "code",
   "execution_count": null,
   "metadata": {},
   "outputs": [],
   "source": [
    "#outliers = data_imo_armazéns.loc[data_imo_armazéns['Preço'] > 1000000].index\n",
    "#data_imo_armazéns = data_imo_armazéns.drop(outliers)\n",
    "#data_imo_armazéns.index = np.arange(1, len(data_imo_armazéns) + 1)\n",
    "#data_imo_armazéns.shape"
   ]
  },
  {
   "cell_type": "markdown",
   "metadata": {},
   "source": [
    "*Através de métodos matemáticos*"
   ]
  },
  {
   "cell_type": "code",
   "execution_count": null,
   "metadata": {},
   "outputs": [],
   "source": [
    "z = np.abs(stats.zscore(data_imo_armazéns[['Preço']]))\n",
    "threshold = 2\n",
    "print(np.where(z > threshold))\n",
    "# The first array contains the list of row numbers and second array respective column numbers"
   ]
  },
  {
   "cell_type": "code",
   "execution_count": null,
   "metadata": {
    "scrolled": true
   },
   "outputs": [],
   "source": [
    "# Só fazer 1 vez\n",
    "data_imo_armazéns = data_imo_armazéns[(np.abs(stats.zscore(data_imo_armazéns[['Preço']])) < 2).all(axis=1)]\n",
    "data_imo_armazéns.index = np.arange(1, len(data_imo_armazéns) + 1)\n",
    "data_imo_armazéns"
   ]
  },
  {
   "cell_type": "markdown",
   "metadata": {},
   "source": [
    "**Análise exploratória dos dados sem outliers**"
   ]
  },
  {
   "cell_type": "code",
   "execution_count": null,
   "metadata": {},
   "outputs": [],
   "source": [
    "fig = plt.figure(figsize = (20,5))\n",
    "sns.set_style('darkgrid')\n",
    "data_imo_armazéns['Preço'].hist(bins=30)\n",
    "plt.xlabel('Preço')"
   ]
  },
  {
   "cell_type": "code",
   "execution_count": null,
   "metadata": {},
   "outputs": [],
   "source": [
    "fig = plt.figure(figsize = (30,15))\n",
    "\n",
    "ax1 = fig.add_subplot(2,3,1)\n",
    "ax1.scatter(data_imo_armazéns['Área (m/2)'], data_imo_armazéns['Preço'])\n",
    "ax1.set_xlabel('Área')\n",
    "ax1.set_ylabel('Preço')"
   ]
  },
  {
   "cell_type": "markdown",
   "metadata": {},
   "source": [
    "**Dados em falta por coluna**"
   ]
  },
  {
   "cell_type": "code",
   "execution_count": null,
   "metadata": {},
   "outputs": [],
   "source": [
    "pd.set_option('display.max_rows', None)\n",
    "percent_missing = data_imo_armazéns.isnull().sum() * 100 / len(data_imo_armazéns)\n",
    "missing_value_data_imo_armazéns_columns = pd.DataFrame({'percent_missing (%)': percent_missing})\n",
    "sort_data = missing_value_data_imo_armazéns_columns.copy()\n",
    "sort_data.sort_values('percent_missing (%)', inplace=True, ascending=False)\n",
    "sort_data"
   ]
  },
  {
   "cell_type": "code",
   "execution_count": null,
   "metadata": {},
   "outputs": [],
   "source": [
    "pd.set_option('display.max_rows', 10)"
   ]
  },
  {
   "cell_type": "markdown",
   "metadata": {},
   "source": [
    "**Remover colunas que tenham mais de 30% (?) de missing values**"
   ]
  },
  {
   "cell_type": "code",
   "execution_count": null,
   "metadata": {},
   "outputs": [],
   "source": [
    "a_manter = list(missing_value_data_imo_armazéns_columns.index[missing_value_data_imo_armazéns_columns['percent_missing (%)'] < 30])\n",
    "data_imo_armazéns = data_imo_armazéns[a_manter]\n",
    "data_imo_armazéns"
   ]
  },
  {
   "cell_type": "markdown",
   "metadata": {},
   "source": [
    "**Dados em falta por linha**"
   ]
  },
  {
   "cell_type": "code",
   "execution_count": null,
   "metadata": {},
   "outputs": [],
   "source": [
    "percent_missing = (1 - data_imo_armazéns.apply(lambda x: x.count(), axis=1) / len(data_imo_armazéns.columns)) * 100\n",
    "missing_value_data_imo_armazéns_rows = pd.DataFrame({'percent_missing (%)': percent_missing})\n",
    "sort_data = missing_value_data_imo_armazéns_rows.copy()\n",
    "sort_data.sort_values('percent_missing (%)', inplace=True, ascending=False)\n",
    "sort_data"
   ]
  },
  {
   "cell_type": "markdown",
   "metadata": {},
   "source": [
    "**Remover linhas com percentagem de dados em falta superior a 50%**"
   ]
  },
  {
   "cell_type": "code",
   "execution_count": null,
   "metadata": {},
   "outputs": [],
   "source": [
    "a_excluir = missing_value_data_imo_armazéns_rows[(missing_value_data_imo_armazéns_rows['percent_missing (%)'] >= 50)]\n",
    "data_imo_armazéns = data_imo_armazéns.drop(a_excluir.index)\n",
    "data_imo_armazéns.index = np.arange(1, len(data_imo_armazéns) + 1)"
   ]
  },
  {
   "cell_type": "markdown",
   "metadata": {},
   "source": [
    "**Inserir dados em falta**"
   ]
  },
  {
   "cell_type": "code",
   "execution_count": null,
   "metadata": {},
   "outputs": [],
   "source": [
    "for x in data_imo_armazéns.select_dtypes(include=['float64']).columns.tolist():\n",
    "    median_value=data_imo_armazéns[x].median()\n",
    "    data_imo_armazéns[x]=data_imo_armazéns[x].fillna(median_value)\n",
    "\n",
    "for y in data_imo_armazéns.select_dtypes(include=['object']).columns.tolist():\n",
    "    mode_value=data_imo_armazéns[y].mode()\n",
    "    data_imo_armazéns[y]=data_imo_armazéns[y].fillna(mode_value[0])    \n",
    "    \n",
    "data_imo_armazéns"
   ]
  },
  {
   "cell_type": "code",
   "execution_count": null,
   "metadata": {},
   "outputs": [],
   "source": [
    "sns.heatmap(data_imo_armazéns.isnull(),yticklabels=False,cbar=False,cmap='viridis')"
   ]
  },
  {
   "cell_type": "markdown",
   "metadata": {},
   "source": [
    "## Estruturação dos Dados"
   ]
  },
  {
   "cell_type": "markdown",
   "metadata": {},
   "source": [
    "## Inserção de dados acerca da localização do imóvel\n",
    "\n",
    "*www.google.com/maps/*"
   ]
  },
  {
   "cell_type": "markdown",
   "metadata": {},
   "source": [
    "**Funções auxiliares**"
   ]
  },
  {
   "cell_type": "code",
   "execution_count": null,
   "metadata": {},
   "outputs": [],
   "source": [
    "def distance_coordinates(lat1,lon1,lat2,lon2):\n",
    "    \n",
    "    coords_1 = (lat1, lon1)\n",
    "    coords_2 = (lat2, lon2)\n",
    "    \n",
    "    res = geopy.distance.geodesic(coords_1, coords_2).km\n",
    "\n",
    "    return round(res,3)"
   ]
  },
  {
   "cell_type": "markdown",
   "metadata": {},
   "source": [
    "**Centro da Cidade**"
   ]
  },
  {
   "cell_type": "code",
   "execution_count": null,
   "metadata": {},
   "outputs": [],
   "source": [
    "centro_cidade = 41.5514083,-8.4230248"
   ]
  },
  {
   "cell_type": "code",
   "execution_count": null,
   "metadata": {},
   "outputs": [],
   "source": [
    "distancias = []\n",
    "for index, row in data_imo_armazéns.iterrows():\n",
    "    value = centro_cidade\n",
    "    dist = distance_coordinates(data_imo_armazéns.iloc[index-1]['Latitude'],data_imo_armazéns.iloc[index-1]['Longitude'],value[0],value[1])  \n",
    "    distancias.append(dist)\n",
    "    \n",
    "data_imo_armazéns['Centro Cidade (km)'] = distancias"
   ]
  },
  {
   "cell_type": "markdown",
   "metadata": {},
   "source": [
    "**Hospitais**"
   ]
  },
  {
   "cell_type": "code",
   "execution_count": null,
   "metadata": {},
   "outputs": [],
   "source": [
    "hospitais = {}\n",
    "hospitais['Hospital de Braga'] = 41.5679738,-8.3990116\n",
    "hospitais['Trofa Saúde - Braga Sul'] = 41.5246625,-8.4141593\n",
    "hospitais['Trofa Saúde - Braga Centro'] = 41.5498965,-8.4187538\n",
    "hospitais['Lusíadas Braga'] = 41.5476764,-8.4224197"
   ]
  },
  {
   "cell_type": "code",
   "execution_count": null,
   "metadata": {
    "scrolled": true
   },
   "outputs": [],
   "source": [
    "distancias = []\n",
    "for index, row in data_imo_armazéns.iterrows():\n",
    "    min_dist = 99999999.9\n",
    "    for value in hospitais.values():\n",
    "        dist = distance_coordinates(data_imo_armazéns.iloc[index-1]['Latitude'],data_imo_armazéns.iloc[index-1]['Longitude'],value[0],value[1])\n",
    "        if dist < min_dist:\n",
    "            min_dist = dist    \n",
    "    distancias.append(min_dist)\n",
    "    \n",
    "data_imo_armazéns['Hospitais (km)'] = distancias"
   ]
  },
  {
   "cell_type": "markdown",
   "metadata": {},
   "source": [
    "**Centros de Saúde**"
   ]
  },
  {
   "cell_type": "code",
   "execution_count": null,
   "metadata": {},
   "outputs": [],
   "source": [
    "centros_saude = {}\n",
    "centros_saude['Braga Centro'] = 41.5471857,-8.4279198\n",
    "centros_saude['Infias'] = 41.5602432,-8.4228005\n",
    "centros_saude['USF do Minho'] = 41.5465815,-8.4147386\n",
    "centros_saude['Clinica de Sao Marcos'] = 41.5454486,-8.426507\n",
    "centros_saude['O Poverello'] = 41.5703584,-8.4114745\n",
    "centros_saude['Clinica Cubana Braga'] = 41.5492599,-8.4262347\n",
    "centros_saude['Clinica Médico - Cirurgica De Santa Tecla'] = 41.5489178,-8.4117642\n",
    "centros_saude['Hemoatlantico - Braga'] = 41.5459355,-8.4314237\n",
    "centros_saude['Centro de Vacinação Internacional'] = 41.5586578,-8.3999608\n",
    "centros_saude['Clinica Enguardas'] = 41.5571581,-8.4127898\n",
    "centros_saude['USF Braga Norte'] = 41.5603489,-8.4227264\n",
    "centros_saude['USF Carandá'] = 41.5525337,-8.4123\n",
    "centros_saude['USF Bracara Augusta'] = 41.5422297,-8.4105532\n",
    "centros_saude['USF Maxisaúde'] = 41.5473324,-8.4279983\n",
    "centros_saude['USF São Lourenço'] = 41.5142651,-8.4559502\n",
    "centros_saude['USF São João de Braga'] = 41.5463782,-8.4145564\n",
    "centros_saude['USF Manuel Rocha Peixoto'] = 41.5473003,-8.4279339\n",
    "centros_saude['USF Gualtar'] = 41.5682764,-8.3871645\n",
    "centros_saude['USF Saúde Oeste'] = 41.5325817,-8.4733681\n",
    "centros_saude['USF Tadim'] = 41.5079792,-8.4879975\n",
    "centros_saude['Gualtar'] = 41.5683003,-8.3872187\n",
    "centros_saude['USF Esporões'] = 41.5120606,-8.4201814\n",
    "centros_saude['USF Salutis'] = 41.5465247,-8.4147014\n",
    "centros_saude['USP de Braga'] = 41.5588888,-8.3998833"
   ]
  },
  {
   "cell_type": "code",
   "execution_count": null,
   "metadata": {},
   "outputs": [],
   "source": [
    "distancias = []\n",
    "for index, row in data_imo_armazéns.iterrows():\n",
    "    min_dist = 99999999.9\n",
    "    for value in centros_saude.values():\n",
    "        dist = distance_coordinates(data_imo_armazéns.iloc[index-1]['Latitude'],data_imo_armazéns.iloc[index-1]['Longitude'],value[0],value[1])\n",
    "        if dist < min_dist:\n",
    "            min_dist = dist    \n",
    "    distancias.append(min_dist)\n",
    "    \n",
    "data_imo_armazéns['Centros Saúde (km)'] = distancias"
   ]
  },
  {
   "cell_type": "markdown",
   "metadata": {},
   "source": [
    "**Centros Comerciais**"
   ]
  },
  {
   "cell_type": "code",
   "execution_count": null,
   "metadata": {},
   "outputs": [],
   "source": [
    "centroscomerciais = {}\n",
    "centroscomerciais['Braga Parque'] = 41.5577669,-8.4060603\n",
    "centroscomerciais['Minho Center'] = 41.540935,-8.400464\n",
    "centroscomerciais['Nova Arcada'] = 41.579068,-8.429654"
   ]
  },
  {
   "cell_type": "code",
   "execution_count": null,
   "metadata": {},
   "outputs": [],
   "source": [
    "distancias = []\n",
    "for index, row in data_imo_armazéns.iterrows():\n",
    "    min_dist = 99999999.9\n",
    "    for value in centroscomerciais.values():\n",
    "        dist = distance_coordinates(data_imo_armazéns.iloc[index-1]['Latitude'],data_imo_armazéns.iloc[index-1]['Longitude'],value[0],value[1])\n",
    "        if dist < min_dist:\n",
    "            min_dist = dist    \n",
    "    distancias.append(min_dist)\n",
    "    \n",
    "data_imo_armazéns['Centro Comerciais (km)'] = distancias"
   ]
  },
  {
   "cell_type": "markdown",
   "metadata": {},
   "source": [
    "**Escolas**"
   ]
  },
  {
   "cell_type": "code",
   "execution_count": null,
   "metadata": {},
   "outputs": [],
   "source": [
    "escolas = {}\n",
    "escolas['Secundária Sá de Miranda'] = 41.5568137,-8.4182525\n",
    "escolas['Básica Francisco Sanches'] = 41.5548131,-8.4118978\n",
    "escolas['Básica de Gualtar'] = 41.5669867,-8.38796\n",
    "escolas['Básica de Lamaçães'] = 41.5471216,-8.4016327\n",
    "escolas['Secundária Carlos Amarante'] = 41.5509961,-8.413909\n",
    "escolas['Básica de Palmeira'] = 41.5771831,-8.4245399\n",
    "escolas['Secundária de Maximinos'] = 41.5424538,-8.4415713\n",
    "escolas['Básica André Soares'] = 41.5470115,-8.415924\n",
    "escolas['Básica do 1º Ciclo de São Vitor'] = 41.55186,-8.4129202\n",
    "escolas['Básica de Real'] = 41.5577824,-8.4395854\n",
    "escolas['Jardim Escola João de Deus'] = 41.5447436,-8.407904\n",
    "escolas['Colégio Luso Internacional de Braga'] = 41.56979,-8.3885487\n",
    "escolas['EB1 Quinta da Veiga'] = 41.5590263,-8.4239226\n",
    "escolas['Secundária D. Maria II'] = 41.5487484,-8.4177364\n",
    "escolas['Básica Bairro da Misericórdia'] = 41.5578043,-8.4262862\n",
    "escolas['EB1 Carandá'] = 41.5452545,-8.4156397\n",
    "escolas['Colégio Dom Diogo de Sousa'] = 41.5575,-8.415931\n",
    "escolas['Centro Escolar Ponte Pedrinha'] = 41.5403601,-8.4294783\n",
    "escolas['EB1/J1 Bairro da Alegria'] = 41.5638599,-8.402921"
   ]
  },
  {
   "cell_type": "code",
   "execution_count": null,
   "metadata": {},
   "outputs": [],
   "source": [
    "distancias = []\n",
    "for index, row in data_imo_armazéns.iterrows():\n",
    "    min_dist = 99999999.9\n",
    "    for value in escolas.values():\n",
    "        dist = distance_coordinates(data_imo_armazéns.iloc[index-1]['Latitude'],data_imo_armazéns.iloc[index-1]['Longitude'],value[0],value[1])\n",
    "        if dist < min_dist:\n",
    "            min_dist = dist    \n",
    "    distancias.append(min_dist)\n",
    "    \n",
    "data_imo_armazéns['Escolas (km)'] = distancias"
   ]
  },
  {
   "cell_type": "markdown",
   "metadata": {},
   "source": [
    "**Universidades**"
   ]
  },
  {
   "cell_type": "code",
   "execution_count": null,
   "metadata": {},
   "outputs": [],
   "source": [
    "universidades = {}\n",
    "universidades['Universidade do Minho - Campus de Gualtar'] = 41.5607319,-8.3962368\n",
    "universidades['IPCA - Pólo de Braga'] = 41.5421121,-8.4210972\n",
    "universidades['Universidade Católica Portuguesa'] = 41.554852,-8.4209143"
   ]
  },
  {
   "cell_type": "code",
   "execution_count": null,
   "metadata": {},
   "outputs": [],
   "source": [
    "distancias = []\n",
    "for index, row in data_imo_armazéns.iterrows():\n",
    "    min_dist = 99999999.9\n",
    "    for value in universidades.values():\n",
    "        dist = distance_coordinates(data_imo_armazéns.iloc[index-1]['Latitude'],data_imo_armazéns.iloc[index-1]['Longitude'],value[0],value[1])\n",
    "        if dist < min_dist:\n",
    "            min_dist = dist    \n",
    "    distancias.append(min_dist)\n",
    "    \n",
    "data_imo_armazéns['Universidades (km)'] = distancias"
   ]
  },
  {
   "cell_type": "markdown",
   "metadata": {},
   "source": [
    "**Estação de Comboios**"
   ]
  },
  {
   "cell_type": "code",
   "execution_count": null,
   "metadata": {},
   "outputs": [],
   "source": [
    "estacao = 41.548143,-8.4344431"
   ]
  },
  {
   "cell_type": "code",
   "execution_count": null,
   "metadata": {},
   "outputs": [],
   "source": [
    "distancias = []\n",
    "for index, row in data_imo_armazéns.iterrows():\n",
    "    value = estacao\n",
    "    dist = distance_coordinates(data_imo_armazéns.iloc[index-1]['Latitude'],data_imo_armazéns.iloc[index-1]['Longitude'],value[0],value[1])  \n",
    "    distancias.append(dist)\n",
    "    \n",
    "data_imo_armazéns['Estação de Comboios (km)'] = distancias"
   ]
  },
  {
   "cell_type": "markdown",
   "metadata": {},
   "source": [
    "**Parques Industriais**\n",
    "\n",
    "*www.igogo.pt/parques-industriais-braga/*"
   ]
  },
  {
   "cell_type": "code",
   "execution_count": null,
   "metadata": {},
   "outputs": [],
   "source": [
    "parques_industriais = {}\n",
    "parques_industriais['Frossos'] = 41.5595545,-8.447319\n",
    "parques_industriais['Quinta do Carreiro'] = 41.5653531,-8.4454561\n",
    "parques_industriais['Adaúfe'] = 41.5974779,-8.4135554\n",
    "parques_industriais['Celeirós'] = 41.5109663,-8.454419\n",
    "parques_industriais['Marvilha'] = 41.5318363,-8.4735374\n",
    "parques_industriais['Mire de Tibães'] = 41.5819656,-8.4767172\n",
    "parques_industriais['Padim da Graça'] = 41.5692605,-8.4890601\n",
    "parques_industriais['Pitancinhos'] = 41.5840245,-8.4219733\n",
    "parques_industriais['Vilça'] = 41.5154222,-8.4937553"
   ]
  },
  {
   "cell_type": "code",
   "execution_count": null,
   "metadata": {},
   "outputs": [],
   "source": [
    "distancias = []\n",
    "for index, row in data_imo_armazéns.iterrows():\n",
    "    min_dist = 99999999.9\n",
    "    for value in parques_industriais.values():\n",
    "        dist = distance_coordinates(data_imo_armazéns.iloc[index-1]['Latitude'],data_imo_armazéns.iloc[index-1]['Longitude'],value[0],value[1])\n",
    "        if dist < min_dist:\n",
    "            min_dist = dist    \n",
    "    distancias.append(min_dist)\n",
    "    \n",
    "data_imo_armazéns['Parques Industriais (km)'] = distancias"
   ]
  },
  {
   "cell_type": "markdown",
   "metadata": {},
   "source": [
    "**Central de Autocarros**"
   ]
  },
  {
   "cell_type": "code",
   "execution_count": null,
   "metadata": {},
   "outputs": [],
   "source": [
    "central_autocarros = 41.555324,-8.425410"
   ]
  },
  {
   "cell_type": "code",
   "execution_count": null,
   "metadata": {},
   "outputs": [],
   "source": [
    "distancias = []\n",
    "for index, row in data_imo_armazéns.iterrows():\n",
    "    value = central_autocarros\n",
    "    dist = distance_coordinates(data_imo_armazéns.iloc[index-1]['Latitude'],data_imo_armazéns.iloc[index-1]['Longitude'],value[0],value[1])   \n",
    "    distancias.append(dist)\n",
    "    \n",
    "data_imo_armazéns['Central Autocarros (km)'] = distancias"
   ]
  },
  {
   "cell_type": "markdown",
   "metadata": {},
   "source": [
    "**Bancos**"
   ]
  },
  {
   "cell_type": "code",
   "execution_count": null,
   "metadata": {},
   "outputs": [],
   "source": [
    "bancos = {}\n",
    "bancos['BPI Frossos'] = 41.561298,-8.447379\n",
    "bancos['BPI Gualtar'] = 41.5647823,-8.3876109\n",
    "bancos['Crédito Agrícola Braga'] = 41.5514726,-8.4278259\n",
    "bancos['Activo Bank'] = 41.5521836,-8.4267081\n",
    "bancos['Banif Centro'] = 41.5524396,-8.4236611\n",
    "bancos['Banco de Portugal'] = 41.5518264,-8.4234077\n",
    "bancos['Montepio Centro'] = 41.5517009,-8.4180607\n",
    "bancos['Montepio Centro 2'] = 41.5507289,-8.4250391\n",
    "bancos['Novo Banco Centro'] = 41.5507776,-8.4238804\n",
    "bancos['Banco de Investimento Global'] = 41.5495727,-8.4251216\n",
    "bancos['Novo Banco Centro 2'] = 41.5492902,-8.4121129\n",
    "bancos['Banco Millenium BCP São Lázaro'] = 41.5475307,-8.4210104\n",
    "bancos['BBVA São Lázaro'] = 41.5464477,-8.4199778\n",
    "bancos['Santander Totta Lamaçães'] = 41.5479773,-8.4033012\n",
    "bancos['Caixa Geral de Depósito Lamaçães'] = 41.5480627,-8.4035902\n",
    "bancos['BPI Dume'] = 41.5450355,-8.4019862\n",
    "bancos['Novo Banco Maximinos'] = 41.5448869,-8.4337664\n",
    "bancos['Caixa Geral de Depósitos Maximinos'] = 41.547196,-8.4338421\n",
    "bancos['BPI N14'] = 41.53774,-8.434457"
   ]
  },
  {
   "cell_type": "code",
   "execution_count": null,
   "metadata": {},
   "outputs": [],
   "source": [
    "distancias = []\n",
    "for index, row in data_imo_armazéns.iterrows():\n",
    "    min_dist = 99999999.9\n",
    "    for value in bancos.values():\n",
    "        dist = distance_coordinates(data_imo_armazéns.iloc[index-1]['Latitude'],data_imo_armazéns.iloc[index-1]['Longitude'],value[0],value[1])\n",
    "        if dist < min_dist:\n",
    "            min_dist = dist    \n",
    "    distancias.append(min_dist)\n",
    "    \n",
    "data_imo_armazéns['Bancos (km)'] = distancias"
   ]
  },
  {
   "cell_type": "markdown",
   "metadata": {},
   "source": [
    "**Correios**"
   ]
  },
  {
   "cell_type": "code",
   "execution_count": null,
   "metadata": {},
   "outputs": [],
   "source": [
    "correios = {}\n",
    "correios['CTT Maximinos'] = 41.5444322,-8.4340695\n",
    "correios['CTT São Lázaro'] = 41.544917,-8.420586\n",
    "correios['CTT Fonte Seca'] = 41.535935,-8.4016483\n",
    "correios['CTT 25 de Abril'] = 41.5474966,-8.4204056\n",
    "correios['Estação de Correios de Santa Tecla'] = 41.5484275,-8.4118152\n",
    "correios['CTT Nogueira, Fraiões e Lamaçães'] = 41.5480095,-8.4040274\n",
    "correios['Posto de Correios de Braga (São José de Lázaro)'] = 41.5497985,-8.4193059\n",
    "correios['CTT Largo de São Francisco'] = 41.5518429,-8.423987\n",
    "correios['CTT Braga Parque'] = 41.556725,-8.4056481\n",
    "correios['CTT Largo de Infias'] = 41.5579778,-8.4165392"
   ]
  },
  {
   "cell_type": "code",
   "execution_count": null,
   "metadata": {},
   "outputs": [],
   "source": [
    "distancias = []\n",
    "for index, row in data_imo_armazéns.iterrows():\n",
    "    min_dist = 99999999.9\n",
    "    for value in correios.values():\n",
    "        dist = distance_coordinates(data_imo_armazéns.iloc[index-1]['Latitude'],data_imo_armazéns.iloc[index-1]['Longitude'],value[0],value[1])\n",
    "        if dist < min_dist:\n",
    "            min_dist = dist    \n",
    "    distancias.append(min_dist)\n",
    "    \n",
    "data_imo_armazéns['Correios (km)'] = distancias"
   ]
  },
  {
   "cell_type": "markdown",
   "metadata": {},
   "source": [
    "**Parques e zonas verdes**"
   ]
  },
  {
   "cell_type": "code",
   "execution_count": null,
   "metadata": {},
   "outputs": [],
   "source": [
    "parques_lazer = {}\n",
    "parques_lazer['Parque de Lazer de Gerizes'] = 41.5835983,-8.449529\n",
    "parques_lazer['Parque da Rodovia'] = 41.552828,-8.4031463\n",
    "parques_lazer['Jardim da Avenida Central'] = 41.551519,-8.421523\n",
    "parques_lazer['Parque São João da Ponte'] = 41.5454706,-8.4265083\n",
    "parques_lazer['Parque da Ponte'] = 41.541304, -8.419441\n",
    "parques_lazer['Parque de Lazer da Rampa da Falperra'] = 41.5309717,-8.3944834\n",
    "parques_lazer['Parque de Lazer do Ribeiro dos Prados'] = 41.5052344,-8.4422877 "
   ]
  },
  {
   "cell_type": "code",
   "execution_count": null,
   "metadata": {},
   "outputs": [],
   "source": [
    "distancias = []\n",
    "for index, row in data_imo_armazéns.iterrows():\n",
    "    min_dist = 99999999.9\n",
    "    for value in parques_lazer.values():\n",
    "        dist = distance_coordinates(data_imo_armazéns.iloc[index-1]['Latitude'],data_imo_armazéns.iloc[index-1]['Longitude'],value[0],value[1])\n",
    "        if dist < min_dist:\n",
    "            min_dist = dist    \n",
    "    distancias.append(min_dist)\n",
    "    \n",
    "data_imo_armazéns['Parques e Zonas Verdes (km)'] = distancias"
   ]
  },
  {
   "cell_type": "markdown",
   "metadata": {},
   "source": [
    "**Serviços Públicos**\n",
    "\n",
    "*https://eportugal.gov.pt/locais-de-atendimento-de-servicos-publicos/-/pesquisa/search_stores*"
   ]
  },
  {
   "cell_type": "code",
   "execution_count": null,
   "metadata": {},
   "outputs": [],
   "source": [
    "servicos_publicos = {}\n",
    "servicos_publicos['Finanças 1'] = 41.5498747,-8.4194008\n",
    "servicos_publicos['Finanças 2'] = 41.5440114,-8.4358346\n",
    "servicos_publicos['Segurança Social'] = 41.5477731,-8.4129363\n",
    "servicos_publicos['Serviços de RSI'] = 41.5424794,-8.4360436\n",
    "servicos_publicos['Gabinete de Atendimento ao Cidadão'] = 41.5561192,-8.4121799\n",
    "servicos_publicos['Conservatória do Registo Civil'] = 41.5518773,-8.4222603\n",
    "servicos_publicos['IEFP - Centro de Emprego'] = 41.5423426,-8.4339527\n",
    "servicos_publicos['SEF - Loja do Cidadão de Braga'] = 41.5474961,-8.421969\n",
    "servicos_publicos['Espaço Cidadão Sobreposta'] = 41.547783,-8.3619992\n",
    "servicos_publicos['Espaço Cidadão Adaúfe'] = 41.5861605,-8.3926854\n",
    "servicos_publicos['Espaço Cidadão Figueiredo'] = 41.5048946,-8.4349509\n",
    "servicos_publicos['Espaço Cidadão Real'] = 41.5575145,-8.4440584\n",
    "servicos_publicos['Espaço Cidadão S. Vicente'] = 41.5565553,-8.4241112\n",
    "servicos_publicos['Espaço Cidadão Sequeira'] = 41.5323623,-8.4732977\n",
    "servicos_publicos['Espaço Cidadão Tadim'] = 41.5057871,-8.4916939"
   ]
  },
  {
   "cell_type": "code",
   "execution_count": null,
   "metadata": {},
   "outputs": [],
   "source": [
    "distancias = []\n",
    "for index, row in data_imo_armazéns.iterrows():\n",
    "    min_dist = 99999999.9\n",
    "    for value in servicos_publicos.values():\n",
    "        dist = distance_coordinates(data_imo_armazéns.iloc[index-1]['Latitude'],data_imo_armazéns.iloc[index-1]['Longitude'],value[0],value[1])\n",
    "        if dist < min_dist:\n",
    "            min_dist = dist    \n",
    "    distancias.append(min_dist)\n",
    "    \n",
    "data_imo_armazéns['Serviços Públicos (km)'] = distancias"
   ]
  },
  {
   "cell_type": "markdown",
   "metadata": {},
   "source": [
    "**Policia Municipal**"
   ]
  },
  {
   "cell_type": "code",
   "execution_count": null,
   "metadata": {},
   "outputs": [],
   "source": [
    "policia = 41.5495054,-8.4267993"
   ]
  },
  {
   "cell_type": "code",
   "execution_count": null,
   "metadata": {},
   "outputs": [],
   "source": [
    "distancias = []\n",
    "for index, row in data_imo_armazéns.iterrows():\n",
    "    value = policia\n",
    "    dist = distance_coordinates(data_imo_armazéns.iloc[index-1]['Latitude'],data_imo_armazéns.iloc[index-1]['Longitude'],value[0],value[1])  \n",
    "    distancias.append(dist)\n",
    "    \n",
    "data_imo_armazéns['Policia Municipal (km)'] = distancias"
   ]
  },
  {
   "cell_type": "markdown",
   "metadata": {},
   "source": [
    "**Farmácias**\n",
    "\n",
    "*https://portalnacional.com.pt/braga/braga/farmacias/*"
   ]
  },
  {
   "cell_type": "code",
   "execution_count": null,
   "metadata": {},
   "outputs": [],
   "source": [
    "farmacias = {}\n",
    "farmacias['Adaúfe'] = 41.5858796,-8.4020402\n",
    "farmacias['Alvim - Merelim (São Pedro) e Frossos'] = 41.5595977,8.4479227\n",
    "farmacias['Araújo Rodrigues - Celeirós'] = 41.5129219,-8.4503908\n",
    "farmacias['Beatriz - São Vitor'] = 41.5492671,-8.4133199\n",
    "farmacias['Braga - São Vitor'] = 41.5511534,-8.4064856\n",
    "farmacias['Brito - São José de São Lázaro e São João do Souto'] = 41.5505688,-8.4228146\n",
    "farmacias['Carmo - Merelim (São Pedro) e Frossos'] = 41.5716977,-8.45249\n",
    "farmacias['Central - São José de São Lázaro e São João do Souto'] = 41.551847,-8.4250035\n",
    "farmacias['Coelho - Maximinos, Sé e Cividade'] = 41.5514527,-8.4280069\n",
    "farmacias['Cristal - São José de São Lázaro'] = 41.5486228,-8.4216631\n",
    "farmacias['Santa Casa da Misericórdia - São José de São Lázaro e São João do Souto'] = 41.5490779,-8.4232058\n",
    "farmacias['Esporões'] = 41.5119635,-8.4203129\n",
    "farmacias['Gualtar'] = 41.565306,-8.3872187\n",
    "farmacias['Lamaçães'] = 41.547976,-8.4012761\n",
    "farmacias['Lomar'] = 41.5307238,-8.427394\n",
    "farmacias['Henriquina - São Vitor'] = 41.5524657,-8.4139864\n",
    "farmacias['Lima - São José de São Lázaro e São João do Souto'] = 41.5536114,-8.4235402\n",
    "farmacias['Loureiro Basto - Palmeira'] = 41.5905331,-8.4295469\n",
    "farmacias['Marques - São José de São Lázaro e São João do Souto'] = 41.550423,-8.423677\n",
    "farmacias['Martins - São José de São Lázaro e São João do Souto'] = 41.5510726,-8.4223516\n",
    "farmacias['Narcisa C. Dias - Veiga do Penso, Escudeiros e Penso'] = 41.4868491,-8.4292978\n",
    "farmacias['Nova de Nogueira - Nogueira'] = 41.5304337,-8.4102638\n",
    "farmacias['Nuno Barros - Real'] = 41.554171,-8.438716\n",
    "farmacias['Oliveira - Ferreiros'] = 41.5345909,-8.4400511\n",
    "farmacias['Osório - Ruães'] = 41.5808657,-8.4758667\n",
    "farmacias['Pimenta - Cabreiros'] = 41.5334211,-8.4965154\n",
    "farmacias['Farmácia Pimentel - Sao Vitor'] = 41.557452,-8.408761\n",
    "farmacias['Farmácia Pinheiro - Maximinos, Sé e Cividadee'] = 41.5456516,-8.4334375\n",
    "farmacias['Farmácia Pipa - Nogueira, Fraião e Lamaçães'] = 41.5435379,-8.3995875\n",
    "farmacias['Farmácia Rodrigues - Maximinos, Sé e Cividade'] = 41.5503813,-8.4287748\n",
    "farmacias['Farmácia Roma - São José de São Lázaro e São João do Souto'] = 41.5532189,-8.4237785\n",
    "farmacias['Farmácia Santos - São Vicente'] = 41.5566642,-8.4197066\n",
    "farmacias['Farmácia Santos da Cunha - Maximinos, Sé e Cividade'] = 41.5417512,-8.4298574\n",
    "farmacias['Farmácia São João - São José de São Lázaro e São João do Souto'] = 41.5450471,-8.4196004\n",
    "farmacias['Farmácia Silva - São Vítor'] = 41.551804,-8.4174405\n",
    "farmacias['Farmácia Sousa Gomes - Maximinos, Sé e Cividade'] = 41.5512345,-8.4288927\n",
    "farmacias['Farmácia Tebosa - Laião-Tebosa'] = 41.4863814,-8.4758655\n",
    "farmacias['Farmácia Vidal - Tadim'] = 41.5078378,-8.4869193"
   ]
  },
  {
   "cell_type": "code",
   "execution_count": null,
   "metadata": {},
   "outputs": [],
   "source": [
    "distancias = []\n",
    "for index, row in data_imo_armazéns.iterrows():\n",
    "    min_dist = 99999999.9\n",
    "    for value in farmacias.values():\n",
    "        dist = distance_coordinates(data_imo_armazéns.iloc[index-1]['Latitude'],data_imo_armazéns.iloc[index-1]['Longitude'],value[0],value[1])\n",
    "        if dist < min_dist:\n",
    "            min_dist = dist    \n",
    "    distancias.append(min_dist)\n",
    "    \n",
    "data_imo_armazéns['Farmácias (km)'] = distancias"
   ]
  },
  {
   "cell_type": "markdown",
   "metadata": {},
   "source": [
    "**Outliers (Localização do imóvel errada)**"
   ]
  },
  {
   "cell_type": "code",
   "execution_count": null,
   "metadata": {},
   "outputs": [],
   "source": [
    "a_excluir = data_imo_armazéns[(data_imo_armazéns['Centro Cidade (km)'] >= 30)]\n",
    "data_imo_armazéns = data_imo_armazéns.drop(a_excluir.index)\n",
    "data_imo_armazéns.index = np.arange(1, len(data_imo_armazéns) + 1)\n",
    "#a_excluir"
   ]
  },
  {
   "cell_type": "markdown",
   "metadata": {},
   "source": [
    "## Dataset estruturado"
   ]
  },
  {
   "cell_type": "code",
   "execution_count": null,
   "metadata": {},
   "outputs": [],
   "source": [
    "data_imo_armazéns"
   ]
  },
  {
   "cell_type": "code",
   "execution_count": null,
   "metadata": {},
   "outputs": [],
   "source": []
  }
 ],
 "metadata": {
  "kernelspec": {
   "display_name": "Python 3",
   "language": "python",
   "name": "python3"
  },
  "language_info": {
   "codemirror_mode": {
    "name": "ipython",
    "version": 3
   },
   "file_extension": ".py",
   "mimetype": "text/x-python",
   "name": "python",
   "nbconvert_exporter": "python",
   "pygments_lexer": "ipython3",
   "version": "3.7.7"
  }
 },
 "nbformat": 4,
 "nbformat_minor": 4
}
